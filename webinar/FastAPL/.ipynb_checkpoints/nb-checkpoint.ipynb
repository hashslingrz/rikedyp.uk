{
 "cells": [
  {
   "cell_type": "markdown",
   "metadata": {
    "slideshow": {
     "slide_type": "slide"
    }
   },
   "source": [
    "# Fast APL"
   ]
  },
  {
   "cell_type": "markdown",
   "metadata": {
    "slideshow": {
     "slide_type": "fragment"
    }
   },
   "source": [
    "An overview of topics related to writing performant code and optimising existing code."
   ]
  },
  {
   "cell_type": "markdown",
   "metadata": {
    "slideshow": {
     "slide_type": "slide"
    }
   },
   "source": [
    "## Audience\n",
    "This discussion is aimed at users. For a selection of media discussing the performance-related aspects of implementing APL: [rikedyp.uk/webinar/FastAPL/implementation/](https://rikedyp.uk/webinar/FastAPL/implementation.html)"
   ]
  },
  {
   "cell_type": "markdown",
   "metadata": {
    "slideshow": {
     "slide_type": "slide"
    }
   },
   "source": [
    "## Goals for code"
   ]
  },
  {
   "cell_type": "markdown",
   "metadata": {
    "slideshow": {
     "slide_type": "fragment"
    }
   },
   "source": [
    "In APL, the ability to express similar ideas (or even the exact same idea) in multiple ways is quite pronounced. \n",
    "\n",
    "This double-edged sword of language is both one of the most enjoyable parts of writing (choosing an expression which suits oneself), but it is also a source of frustration (\"How can I express that better?\" \"What is a better way to put that?\" \"What is the best way to express this idea?\")."
   ]
  },
  {
   "cell_type": "markdown",
   "metadata": {
    "slideshow": {
     "slide_type": "subslide"
    }
   },
   "source": [
    "### \"*Better code*\"\n",
    "\n",
    "Aaron Hsu - \"How much (money) are you willing to bet on this code?\"\n",
    "\n",
    "Roger Hui - \"Monument quality code\"\n",
    "\n",
    "<table align=left>\n",
    "<tr><td>☑ Accurate</td><td>☑ Reliabile</td></tr>\n",
    "</table>"
   ]
  },
  {
   "cell_type": "markdown",
   "metadata": {
    "slideshow": {
     "slide_type": "subslide"
    }
   },
   "source": [
    "### Variables\n",
    "[Dyalog Webinars: APL CodeGolf Autumn Tournament](https://youtu.be/3FjYly2G_QI?t=315)\n",
    "<table align=left>\n",
    "<tr><td>☐ Readable</td><td>Can a stranger understand it?</td></tr>\n",
    "<tr><td>☐ Fast</td><td>Does it perform in reasonable time using reasonable resources?</td></tr>\n",
    "<tr><td>☐ Short</td><td>APLers need not be convinced</td></tr>\n",
    "<tr><td colspan=2>☐ Balanced</td></tr>\n",
    "</table>"
   ]
  },
  {
   "cell_type": "markdown",
   "metadata": {
    "slideshow": {
     "slide_type": "fragment"
    }
   },
   "source": [
    "Here we advocate for balanced code, as this is desirable in production."
   ]
  },
  {
   "cell_type": "markdown",
   "metadata": {
    "slideshow": {
     "slide_type": "slide"
    }
   },
   "source": [
    "## Fast APL\n",
    "In order of urgency from \"first line of defence\" to \"last resort\". Generally for changes to existing code, but also worth considering when trying to write performant code first time.\n",
    "- [Analysis and profiling](#Analysis-and-profiling)\n",
    "- [Mechanical sympathy]()\n",
    "- [Algorithms and primitive complexity]()\n",
    "- [The interpretive advantage]()\n",
    "- [Compilation]()\n",
    "- [Outsourcing](http://help.dyalog.com/latest/#Language/System%20Functions/na.htm?Highlight=%E2%8E%95NA)"
   ]
  },
  {
   "cell_type": "markdown",
   "metadata": {
    "slideshow": {
     "slide_type": "slide"
    }
   },
   "source": [
    "## Analysis and profiling"
   ]
  },
  {
   "cell_type": "markdown",
   "metadata": {
    "slideshow": {
     "slide_type": "subslide"
    }
   },
   "source": [
    "### Rule #0:\n",
    "Do NOT optimise code which has NOT been measured as SLOW in realistic situations.\n",
    "- Optimised code is often longer and much less readable"
   ]
  },
  {
   "cell_type": "markdown",
   "metadata": {
    "slideshow": {
     "slide_type": "subslide"
    }
   },
   "source": [
    "```APL\n",
    "      ⎕PROFILE\n",
    "      ]Profile  \n",
    "      ]Runtime\n",
    "      dfns.cmpx\n",
    "```      "
   ]
  },
  {
   "cell_type": "code",
   "execution_count": 88,
   "metadata": {
    "slideshow": {
     "slide_type": "subslide"
    }
   },
   "outputs": [
    {
     "data": {
      "text/html": [
       "<span style=\"white-space:pre; font-family: monospace\">Was ON\n",
       "</span>"
      ]
     },
     "execution_count": 88,
     "metadata": {},
     "output_type": "execute_result"
    },
    {
     "data": {
      "text/html": [
       "<span style=\"white-space:pre; font-family: monospace\">Was OFF\n",
       "</span>"
      ]
     },
     "execution_count": 88,
     "metadata": {},
     "output_type": "execute_result"
    }
   ],
   "source": [
    "]box off\n",
    "]rows off"
   ]
  },
  {
   "cell_type": "code",
   "execution_count": 71,
   "metadata": {
    "slideshow": {
     "slide_type": "subslide"
    }
   },
   "outputs": [],
   "source": [
    "]dinput\n",
    "avg1←{\n",
    "c←≢⍵\n",
    "n←⍵÷c\n",
    "+⌿n\n",
    "}"
   ]
  },
  {
   "cell_type": "code",
   "execution_count": 72,
   "metadata": {
    "slideshow": {
     "slide_type": "fragment"
    }
   },
   "outputs": [],
   "source": [
    "]dinput\n",
    "avg2←{\n",
    "c←≢⍵\n",
    "s←+⌿⍵\n",
    "s÷c\n",
    "}"
   ]
  },
  {
   "cell_type": "code",
   "execution_count": 73,
   "metadata": {
    "slideshow": {
     "slide_type": "subslide"
    }
   },
   "outputs": [
    {
     "data": {
      "text/html": [
       "<span style=\"white-space:pre; font-family: monospace\">/opt/mdyalog/17.1/64/unicode/ws/dfns.dws saved Tue Nov 12 00:26:19 2019\n",
       "</span>"
      ]
     },
     "execution_count": 73,
     "metadata": {},
     "output_type": "execute_result"
    },
    {
     "data": {
      "text/html": [
       "<span style=\"white-space:pre; font-family: monospace\">  avg1 n → 4.2E¯6 |   0% ⎕⎕⎕⎕⎕⎕⎕⎕⎕⎕⎕⎕⎕⎕⎕⎕⎕⎕⎕⎕⎕⎕⎕⎕⎕⎕⎕⎕⎕⎕⎕⎕⎕⎕⎕⎕⎕⎕⎕⎕\n",
       "  avg2 n → 2.1E¯6 | -51% ⎕⎕⎕⎕⎕⎕⎕⎕⎕⎕⎕⎕⎕⎕⎕⎕⎕⎕⎕⎕                    \n",
       "</span>"
      ]
     },
     "execution_count": 73,
     "metadata": {},
     "output_type": "execute_result"
    }
   ],
   "source": [
    ")copy dfns cmpx\n",
    "n←?⍨1000\n",
    "cmpx 'avg1 n' 'avg2 n'"
   ]
  },
  {
   "cell_type": "code",
   "execution_count": 93,
   "metadata": {
    "slideshow": {
     "slide_type": "subslide"
    }
   },
   "outputs": [
    {
     "data": {
      "text/html": [
       "<span style=\"white-space:pre; font-family: monospace\">     ∇ f←{\n",
       "[1]        c←≢⍵\n",
       "[2]        n←⍵÷c\n",
       "[3]        +⌿n\n",
       "[4]    }\n",
       "     ∇\n",
       "</span>"
      ]
     },
     "execution_count": 93,
     "metadata": {},
     "output_type": "execute_result"
    },
    {
     "data": {
      "text/html": [
       "<span style=\"white-space:pre; font-family: monospace\"> Total time: 46.5 msec              \n",
       "                                    \n",
       "  Element      msec      %   Calls  \n",
       "  #.avg1[2]    19.6   42.0   10000  \n",
       "  #.avg1[3]    18.9   40.6   10000  \n",
       "  #.avg1[1]     5.3   11.4   10000  \n",
       "  #.avg1[0]     1.9    4.1   10000  \n",
       "</span>"
      ]
     },
     "execution_count": 93,
     "metadata": {},
     "output_type": "execute_result"
    }
   ],
   "source": [
    "repeat←1e4\n",
    "_Profile←{⍺←1 ⋄ _←⎕PROFILE'clear' ⋄ _←⎕PROFILE 'start' ⋄ r←⍺⍺¨⍺⍴⊂⍵ ⋄ _←⎕PROFILE 'stop' ⋄ f←⍺⍺ ⋄ ⎕VR'f'}\n",
    "repeat avg1 _Profile n\n",
    "]profile -lines"
   ]
  },
  {
   "cell_type": "code",
   "execution_count": 94,
   "metadata": {
    "slideshow": {
     "slide_type": "fragment"
    }
   },
   "outputs": [
    {
     "data": {
      "text/html": [
       "<span style=\"white-space:pre; font-family: monospace\">     ∇ f←{\n",
       "[1]        c←≢⍵\n",
       "[2]        s←+⌿⍵\n",
       "[3]        s÷c\n",
       "[4]    }\n",
       "     ∇\n",
       "</span>"
      ]
     },
     "execution_count": 94,
     "metadata": {},
     "output_type": "execute_result"
    },
    {
     "data": {
      "text/html": [
       "<span style=\"white-space:pre; font-family: monospace\"> Total time: 20.6 msec              \n",
       "                                    \n",
       "  Element      msec      %   Calls  \n",
       "  #.avg2[2]    10.8   52.3   10000  \n",
       "  #.avg2[1]     4.8   23.5   10000  \n",
       "  #.avg2[3]     3.0   14.5   10000  \n",
       "  #.avg2[0]     1.3    6.5   10000  \n",
       "</span>"
      ]
     },
     "execution_count": 94,
     "metadata": {},
     "output_type": "execute_result"
    }
   ],
   "source": [
    "repeat avg2 _Profile n\n",
    "]profile -lines"
   ]
  },
  {
   "cell_type": "markdown",
   "metadata": {
    "slideshow": {
     "slide_type": "slide"
    }
   },
   "source": [
    "## Mechanical Sympathy"
   ]
  },
  {
   "cell_type": "code",
   "execution_count": null,
   "metadata": {},
   "outputs": [],
   "source": []
  },
  {
   "cell_type": "markdown",
   "metadata": {},
   "source": [
    "## Compilation\n",
    "- [Co-dfns](https://github.com/Co-dfns/Co-dfns)\n",
    "- [Jay's Dyalog Compiler](http://docs.dyalog.com/latest/Compiler%20User%20Guide.pdf)\n",
    "- [APEX: The APL Parallel Executor](http://snakeisland.com/apexup.htm)"
   ]
  }
 ],
 "metadata": {
  "kernelspec": {
   "display_name": "Dyalog APL",
   "language": "apl",
   "name": "dyalog-kernel"
  },
  "language_info": {
   "file_extension": ".apl",
   "mimetype": "text/apl",
   "name": "APL"
  }
 },
 "nbformat": 4,
 "nbformat_minor": 4
}
