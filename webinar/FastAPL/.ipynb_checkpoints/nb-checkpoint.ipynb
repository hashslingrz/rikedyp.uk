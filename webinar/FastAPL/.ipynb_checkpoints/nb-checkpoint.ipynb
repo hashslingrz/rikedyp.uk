{
 "cells": [
  {
   "cell_type": "markdown",
   "metadata": {
    "slideshow": {
     "slide_type": "slide"
    }
   },
   "source": [
    "# Fast APL\n",
    "An overview of topics related to writing performant code and optimising existing code."
   ]
  },
  {
   "cell_type": "markdown",
   "metadata": {
    "slideshow": {
     "slide_type": "slide"
    }
   },
   "source": [
    "## Audience\n",
    "APLers"
   ]
  },
  {
   "cell_type": "markdown",
   "metadata": {
    "slideshow": {
     "slide_type": "slide"
    }
   },
   "source": [
    "## Goals for code\n",
    "In APL, the ability to express similar ideas (or even the exact same idea) in multiple ways is quite pronounced. \n",
    "\n",
    "This double-edged sword of language is both one of the most enjoyable parts of writing (choosing an expression which suits oneself), but it is also a source of frustration (\"How can I express that better?\" \"What is a better way to put that?\" \"What is the best way to express this idea?\")."
   ]
  },
  {
   "cell_type": "markdown",
   "metadata": {
    "slideshow": {
     "slide_type": "slide"
    }
   },
   "source": [
    "### \"*Better code*\"\n",
    "\n",
    "- **Aaron Hsu:** *How much (money) are you willing to bet on this code?*\n",
    "- **Roger Hui:** *Monument quality code*\n",
    "\n",
    "---\n",
    "- **Accurate**\n",
    "- **Reliable**"
   ]
  },
  {
   "cell_type": "markdown",
   "metadata": {
    "slideshow": {
     "slide_type": "slide"
    }
   },
   "source": [
    "### Variables\n",
    "Reference: [Dyalog Webinars: APL CodeGolf Autumn Tournament](https://youtu.be/3FjYly2G_QI?t=315)\n",
    "\n",
    "- **Accurate**\n",
    "- **Reliable**\n",
    "---\n",
    "- **Readable:** Can a stranger understand it?\n",
    "- **Fast:** Does it perform in reasonable time using reasonable resources?\n",
    "- **Short:** APLers need not be convinced\n",
    "- **Balanced**\n",
    "\n",
    "Here we advocate for balanced code, as this is desirable in production."
   ]
  },
  {
   "cell_type": "markdown",
   "metadata": {
    "slideshow": {
     "slide_type": "slide"
    }
   },
   "source": [
    "## Fast APL\n",
    "- Analysis and profiling\n",
    "- Mitigating hotspots through \n",
    " - Implementing mechanical sympathy\n",
    " - Using special cased code (The Interpretive Advantage)\n",
    " - Compiling chunks\n",
    " - Outsourcing jobs\n",
    "- Algorithms and primitive complexity"
   ]
  },
  {
   "cell_type": "markdown",
   "metadata": {
    "slideshow": {
     "slide_type": "slide"
    }
   },
   "source": [
    "## Analysis and profiling"
   ]
  },
  {
   "cell_type": "markdown",
   "metadata": {
    "slideshow": {
     "slide_type": "slide"
    }
   },
   "source": [
    "### Rule `⎕IO`\n",
    "Do **not** optimise code which has **not** been measured as **slow** in realistic situations.\n",
    "\n",
    "Optimised code is often longer and much less readable."
   ]
  },
  {
   "cell_type": "markdown",
   "metadata": {
    "slideshow": {
     "slide_type": "slide"
    }
   },
   "source": [
    "`dfns.life`"
   ]
  },
  {
   "cell_type": "code",
   "execution_count": 2,
   "metadata": {
    "slideshow": {
     "slide_type": "slide"
    }
   },
   "outputs": [],
   "source": [
    "R←¯2⌽¯1⊖5 7↑(3 3⍴⍳9)∊2 3 4 5 8\n",
    "lifeNested←{↑1 ⍵∨.∧3 4=+/,¯1 0 1∘.⌽¯1 0 1∘.⊖⊂⍵}\n",
    "lifeFlat←{(3=c)∨⍵∧4=c←+⌿,[1 2]¯1 0 1⊖⍤0 99⍤99 2⊢¯1 0 1⌽⍤0 99⊢⍵}"
   ]
  },
  {
   "cell_type": "code",
   "execution_count": 3,
   "metadata": {
    "slideshow": {
     "slide_type": "slide"
    }
   },
   "outputs": [
    {
     "data": {
      "text/html": [
       "<span style=\"white-space:pre; font-family: monospace\">                                                                        \n",
       "  lifeFlat R   → 1.1E¯5 |   0% ⎕⎕⎕⎕⎕⎕⎕⎕⎕⎕⎕⎕⎕⎕⎕⎕⎕⎕⎕⎕⎕⎕⎕⎕⎕⎕⎕⎕⎕⎕⎕          \n",
       "  lifeNested R → 1.4E¯5 | +27% ⎕⎕⎕⎕⎕⎕⎕⎕⎕⎕⎕⎕⎕⎕⎕⎕⎕⎕⎕⎕⎕⎕⎕⎕⎕⎕⎕⎕⎕⎕⎕⎕⎕⎕⎕⎕⎕⎕⎕⎕ \n",
       "</span>"
      ]
     },
     "execution_count": 3,
     "metadata": {},
     "output_type": "execute_result"
    }
   ],
   "source": [
    "]runtime -c \"lifeFlat R\" \"lifeNested R\" "
   ]
  },
  {
   "cell_type": "markdown",
   "metadata": {
    "slideshow": {
     "slide_type": "slide"
    }
   },
   "source": [
    "### Code analysis tools\n",
    "```APL\n",
    "⎕PROFILE   ]Profile\n",
    "dfns.cmpx  ]Runtime\n",
    "```"
   ]
  },
  {
   "cell_type": "markdown",
   "metadata": {
    "slideshow": {
     "slide_type": "slide"
    }
   },
   "source": [
    "$${(\\sum_{n=1}^{N}A_n})\\div{N}$$\n",
    "\n",
    "\n",
    "\n",
    "$$\\sum_{n=1}^{N}({A_n}\\div{N})$$"
   ]
  },
  {
   "cell_type": "markdown",
   "metadata": {
    "slideshow": {
     "slide_type": "slide"
    }
   },
   "source": [
    "$${(\\sum_{n=1}^{N}A_n})\\div{N}$$"
   ]
  },
  {
   "cell_type": "code",
   "execution_count": 4,
   "metadata": {},
   "outputs": [],
   "source": [
    "]dinput\n",
    "avg1←{\n",
    "  N←≢⍵    ⍝ Count elements\n",
    "  s←+⌿⍵   ⍝ Sum elements \n",
    "  s÷N     ⍝ Sum divided by count\n",
    "}"
   ]
  },
  {
   "cell_type": "markdown",
   "metadata": {
    "slideshow": {
     "slide_type": "slide"
    }
   },
   "source": [
    "$$\\sum_{n=1}^{N}({A_n}\\div{N})$$"
   ]
  },
  {
   "cell_type": "code",
   "execution_count": 5,
   "metadata": {},
   "outputs": [],
   "source": [
    "]dinput\n",
    "avg2←{\n",
    "  N←≢⍵    ⍝ Count elements \n",
    "  n←⍵÷N   ⍝ Array divided by count\n",
    "  +⌿n     ⍝ Sum\n",
    "}"
   ]
  },
  {
   "cell_type": "code",
   "execution_count": 6,
   "metadata": {
    "slideshow": {
     "slide_type": "slide"
    }
   },
   "outputs": [
    {
     "data": {
      "text/html": [
       "<span style=\"white-space:pre; font-family: monospace\">/opt/mdyalog/17.1/64/unicode/ws/dfns.dws saved Tue Nov 12 00:26:19 2019\n",
       "</span>"
      ]
     },
     "execution_count": 6,
     "metadata": {},
     "output_type": "execute_result"
    },
    {
     "data": {
      "text/html": [
       "<span style=\"white-space:pre; font-family: monospace\">  avg1 n → 2.2E¯6 |   0% ⎕⎕⎕⎕⎕⎕⎕⎕⎕⎕⎕⎕⎕⎕⎕⎕⎕⎕⎕⎕⎕                   \n",
       "  avg2 n → 4.1E¯6 | +87% ⎕⎕⎕⎕⎕⎕⎕⎕⎕⎕⎕⎕⎕⎕⎕⎕⎕⎕⎕⎕⎕⎕⎕⎕⎕⎕⎕⎕⎕⎕⎕⎕⎕⎕⎕⎕⎕⎕⎕⎕\n",
       "</span>"
      ]
     },
     "execution_count": 6,
     "metadata": {},
     "output_type": "execute_result"
    }
   ],
   "source": [
    ")copy dfns cmpx\n",
    "n←?⍨1000\n",
    "cmpx 'avg1 n' 'avg2 n'"
   ]
  },
  {
   "cell_type": "code",
   "execution_count": 9,
   "metadata": {
    "slideshow": {
     "slide_type": "slide"
    }
   },
   "outputs": [
    {
     "data": {
      "text/html": [
       "<span style=\"white-space:pre; font-family: monospace\">500.5\n",
       "</span>"
      ]
     },
     "execution_count": 9,
     "metadata": {},
     "output_type": "execute_result"
    },
    {
     "data": {
      "text/html": [
       "<span style=\"white-space:pre; font-family: monospace\"> Total time: 0.0 msec             \n",
       "                                  \n",
       "  Element     msec      %  Calls  \n",
       "  #.avg1[2]    0.0   50.0      1  \n",
       "  #.avg1[1]    0.0   30.0      1  \n",
       "  #.avg1[0]    0.0   10.0      1  \n",
       "  #.avg1[3]    0.0   10.0      1  \n",
       "</span>"
      ]
     },
     "execution_count": 9,
     "metadata": {},
     "output_type": "execute_result"
    }
   ],
   "source": [
    "⎕PROFILE 'clear'\n",
    "⎕PROFILE 'start'\n",
    "avg1 n\n",
    "⎕PROFILE 'stop'\n",
    "]Profile -lines"
   ]
  },
  {
   "cell_type": "code",
   "execution_count": 10,
   "metadata": {
    "slideshow": {
     "slide_type": "slide"
    }
   },
   "outputs": [],
   "source": [
    "repeat←1e4\n",
    "_Profile←{⍺←1 ⋄ _←⎕PROFILE'clear' ⋄ _←⎕PROFILE 'start' ⋄ r←⍺⍺¨⍺⍴⊂⍵ ⋄ _←⎕PROFILE 'stop'}"
   ]
  },
  {
   "cell_type": "code",
   "execution_count": 11,
   "metadata": {
    "slideshow": {
     "slide_type": "slide"
    }
   },
   "outputs": [
    {
     "data": {
      "text/html": [
       "<span style=\"white-space:pre; font-family: monospace\">     ∇ avg1←{                            \n",
       "[1]        N←≢⍵    ⍝ Count elements      \n",
       "[2]        s←+⌿⍵   ⍝ Sum elements        \n",
       "[3]        s÷N     ⍝ Sum divided by count\n",
       "[4]    }                                 \n",
       "     ∇                                   \n",
       "</span>"
      ]
     },
     "execution_count": 11,
     "metadata": {},
     "output_type": "execute_result"
    },
    {
     "data": {
      "text/html": [
       "<span style=\"white-space:pre; font-family: monospace\"> Total time: 22.1 msec              \n",
       "                                    \n",
       "  Element      msec      %   Calls  \n",
       "  #.avg1[2]    11.5   52.0   10000  \n",
       "  #.avg1[1]     5.3   23.9   10000  \n",
       "  #.avg1[3]     3.4   15.4   10000  \n",
       "  #.avg1[0]     1.3    6.0   10000  \n",
       "</span>"
      ]
     },
     "execution_count": 11,
     "metadata": {},
     "output_type": "execute_result"
    }
   ],
   "source": [
    "repeat avg1 _Profile n\n",
    "⎕VR'avg1'\n",
    "]profile -lines"
   ]
  },
  {
   "cell_type": "code",
   "execution_count": 12,
   "metadata": {
    "slideshow": {
     "slide_type": "slide"
    }
   },
   "outputs": [
    {
     "data": {
      "text/html": [
       "<span style=\"white-space:pre; font-family: monospace\">     ∇ avg2←{                              \n",
       "[1]        N←≢⍵    ⍝ Count elements        \n",
       "[2]        n←⍵÷N   ⍝ Array divided by count\n",
       "[3]        +⌿n     ⍝ Sum                   \n",
       "[4]    }                                   \n",
       "     ∇                                     \n",
       "</span>"
      ]
     },
     "execution_count": 12,
     "metadata": {},
     "output_type": "execute_result"
    },
    {
     "data": {
      "text/html": [
       "<span style=\"white-space:pre; font-family: monospace\"> Total time: 43.8 msec              \n",
       "                                    \n",
       "  Element      msec      %   Calls  \n",
       "  #.avg2[2]    18.8   42.9   10000  \n",
       "  #.avg2[3]    18.1   41.4   10000  \n",
       "  #.avg2[1]     5.0   11.4   10000  \n",
       "  #.avg2[0]     1.3    3.0   10000  \n",
       "</span>"
      ]
     },
     "execution_count": 12,
     "metadata": {},
     "output_type": "execute_result"
    }
   ],
   "source": [
    "repeat avg2 _Profile n\n",
    "⎕VR'avg2'\n",
    "]profile -lines"
   ]
  },
  {
   "cell_type": "markdown",
   "metadata": {
    "slideshow": {
     "slide_type": "slide"
    }
   },
   "source": [
    "## Mechanical Sympathy\n",
    "[Dyalog '18: Rectangles All The Way Down](https://www.youtube.com/watch?v=mK2WUDIY4hk)"
   ]
  },
  {
   "cell_type": "markdown",
   "metadata": {
    "slideshow": {
     "slide_type": "slide"
    }
   },
   "source": [
    "Relatively easy gains"
   ]
  },
  {
   "cell_type": "markdown",
   "metadata": {
    "slideshow": {
     "slide_type": "slide"
    }
   },
   "source": [
    "Avoid nested arrays or mixed-type arrays"
   ]
  },
  {
   "cell_type": "code",
   "execution_count": 13,
   "metadata": {
    "slideshow": {
     "slide_type": "slide"
    }
   },
   "outputs": [
    {
     "data": {
      "text/html": [
       "<span style=\"white-space:pre; font-family: monospace\">ABCD\n",
       "EFGH\n",
       "IJKL\n",
       "</span>"
      ]
     },
     "execution_count": 13,
     "metadata": {},
     "output_type": "execute_result"
    }
   ],
   "source": [
    "3 4⍴⎕A ⍝ 3 4  ⍴  'A' 'B' 'C' 'D' 'E' 'F' 'G' 'H' 'I' 'J' 'K' 'L'"
   ]
  },
  {
   "cell_type": "code",
   "execution_count": 16,
   "metadata": {
    "slideshow": {
     "slide_type": "slide"
    }
   },
   "outputs": [
    {
     "data": {
      "text/html": [
       "<span style=\"white-space:pre; font-family: monospace\">┌───┬─────┬────────────────┐\n",
       "│1 2│abcde│┌────┬────┬────┐│\n",
       "│3 4│     ││word│word│word││\n",
       "│   │     │├────┼────┼────┤│\n",
       "│   │     ││word│word│word││\n",
       "│   │     │└────┴────┴────┘│\n",
       "├───┼─────┼────────────────┤\n",
       "│1  │2 b  │3               │\n",
       "└───┴─────┴────────────────┘\n",
       "</span>"
      ]
     },
     "execution_count": 16,
     "metadata": {},
     "output_type": "execute_result"
    }
   ],
   "source": [
    "⍝ 2 3  ⍴  p0 p1 p2 p3 p4 p5\n",
    "⍝ p0 → 2 2  ⍴  1 2 3 4\n",
    "⍝ p1 → 5  ⍴  'a' 'b' 'c' 'd' 'e'\n",
    "⍝ p2 → 2 3  ⍴  p6 p6 p6 p6\n",
    "⍝ p3 → ⍬  ⍴  1\n",
    "⍝ p4 → 2  ⍴  p7 p8\n",
    "⍝ p5 → ⍬  ⍴  3\n",
    "⍝ p6 → 4  ⍴  'w' 'o' 'r' 'd'\n",
    "⍝ p7 → ⍬  ⍴  2\n",
    "⍝ p8 → ⍬  ⍴  'b'\n",
    "2 3⍴(2 2⍴⍳4)'abcde'(2 3⍴⊂'word')1 (2'b') 3"
   ]
  },
  {
   "cell_type": "code",
   "execution_count": 17,
   "metadata": {
    "slideshow": {
     "slide_type": "slide"
    }
   },
   "outputs": [
    {
     "data": {
      "text/html": [
       "<span style=\"white-space:pre; font-family: monospace\">┌──────┬─────┬─────┬─────┬─────┐\n",
       "│7 8 10│3 6 8│7 1 5│2 4 4│9 4 1│\n",
       "└──────┴─────┴─────┴─────┴─────┘\n",
       "</span>"
      ]
     },
     "execution_count": 17,
     "metadata": {},
     "output_type": "execute_result"
    },
    {
     "data": {
      "text/html": [
       "<span style=\"white-space:pre; font-family: monospace\">7 8 10\n",
       "3 6  8\n",
       "7 1  5\n",
       "2 4  4\n",
       "9 4  1\n",
       "</span>"
      ]
     },
     "execution_count": 17,
     "metadata": {},
     "output_type": "execute_result"
    }
   ],
   "source": [
    "⎕←5↑posNest←?500⍴⊂3⍴10\n",
    "⎕←5↑posFlat←↑posNest"
   ]
  },
  {
   "cell_type": "code",
   "execution_count": 18,
   "metadata": {
    "slideshow": {
     "slide_type": "slide"
    }
   },
   "outputs": [
    {
     "data": {
      "text/html": [
       "<span style=\"white-space:pre; font-family: monospace\">                                                                               \n",
       "  0.5*⍨+/2*⍨-⍤1⍤1 99⍨posFlat → 7.6E¯3 |     0% ⎕⎕⎕                             \n",
       "  0.5*⍨+/¨2*⍨∘.-⍨posNest     → 1.2E¯1 | +1423% ⎕⎕⎕⎕⎕⎕⎕⎕⎕⎕⎕⎕⎕⎕⎕⎕⎕⎕⎕⎕⎕⎕⎕⎕⎕⎕⎕⎕⎕⎕⎕⎕\n",
       "\n",
       "               \n",
       "               \n",
       "      ⎕⎕⎕⎕⎕⎕⎕⎕ \n",
       "</span>"
      ]
     },
     "execution_count": 18,
     "metadata": {},
     "output_type": "execute_result"
    }
   ],
   "source": [
    "]runtime -c \"0.5*⍨+/2*⍨-⍤1⍤1 99⍨posFlat\" \"0.5*⍨+/¨2*⍨∘.-⍨posNest\" "
   ]
  },
  {
   "cell_type": "markdown",
   "metadata": {
    "slideshow": {
     "slide_type": "slide"
    }
   },
   "source": [
    "Use inverted tables: [Dyalog '18: Inverted Tables]()\n",
    "```APL\n",
    "8⌶\n",
    "```"
   ]
  },
  {
   "cell_type": "markdown",
   "metadata": {
    "slideshow": {
     "slide_type": "slide"
    }
   },
   "source": [
    "Do work on large arrays where possible"
   ]
  },
  {
   "cell_type": "code",
   "execution_count": 19,
   "metadata": {
    "slideshow": {
     "slide_type": "slide"
    }
   },
   "outputs": [
    {
     "data": {
      "text/html": [
       "<span style=\"white-space:pre; font-family: monospace\">                                                                               \n",
       "  +/,3&lt;{+/,⍵}⌺3 3⊢b → 3.1E¯5 |       0%                                        \n",
       "  +/,{3&lt;+/,⍵}⌺3 3⊢b → 3.8E¯2 | +121050% ⎕⎕⎕⎕⎕⎕⎕⎕⎕⎕⎕⎕⎕⎕⎕⎕⎕⎕⎕⎕⎕⎕⎕⎕⎕⎕⎕⎕⎕⎕⎕⎕⎕⎕⎕⎕⎕⎕⎕\n",
       "\n",
       "        \n",
       "        \n",
       "      ⎕ \n",
       "</span>"
      ]
     },
     "execution_count": 19,
     "metadata": {},
     "output_type": "execute_result"
    }
   ],
   "source": [
    "b←1=?100 100⍴2\n",
    "]runtime -c \"+/,3<{+/,⍵}⌺3 3⊢b\" \"+/,{3<+/,⍵}⌺3 3⊢b\" "
   ]
  },
  {
   "cell_type": "markdown",
   "metadata": {
    "slideshow": {
     "slide_type": "slide"
    }
   },
   "source": [
    "## Using special cased code \n",
    "[Dyalog '18: The Interpretive Advantage](https://www.youtube.com/watch?v=-6no6N3i9Tg)"
   ]
  },
  {
   "cell_type": "code",
   "execution_count": 20,
   "metadata": {
    "slideshow": {
     "slide_type": "slide"
    }
   },
   "outputs": [
    {
     "data": {
      "text/html": [
       "<span style=\"white-space:pre; font-family: monospace\">                                                                     \n",
       "  {≢⍵}⌸A  → 9.9E¯6 |     0% ⎕⎕                                       \n",
       "  {≢⊢⍵}⌸A → 1.8E¯4 | +1660% ⎕⎕⎕⎕⎕⎕⎕⎕⎕⎕⎕⎕⎕⎕⎕⎕⎕⎕⎕⎕⎕⎕⎕⎕⎕⎕⎕⎕⎕⎕⎕⎕⎕⎕⎕⎕⎕⎕⎕⎕ \n",
       "</span>"
      ]
     },
     "execution_count": 20,
     "metadata": {},
     "output_type": "execute_result"
    }
   ],
   "source": [
    "A←?1e4⍴1e2\n",
    "]runtime -c \"{≢⍵}⌸A\" \"{≢⊢⍵}⌸A\" "
   ]
  },
  {
   "cell_type": "markdown",
   "metadata": {
    "slideshow": {
     "slide_type": "slide"
    }
   },
   "source": [
    "[Dyalog idioms](https://help.dyalog.com/latest/index.htm#Language/Defined%20Functions%20and%20Operators/Idiom%20Recognition/Idiom%20List.htm)\n",
    "\n",
    "Search: *dyalog help idiom list*"
   ]
  },
  {
   "cell_type": "code",
   "execution_count": 21,
   "metadata": {
    "slideshow": {
     "slide_type": "slide"
    }
   },
   "outputs": [
    {
     "data": {
      "text/html": [
       "<span style=\"white-space:pre; font-family: monospace\">                                                                       \n",
       "  {(⊂⍋⍵)⌷⍵}A → 9.8E¯6 |    0% ⎕⎕⎕⎕⎕⎕⎕⎕⎕⎕⎕⎕⎕⎕⎕                          \n",
       "  {⍵⌷⍨⊂⍋⍵}A  → 2.7E¯5 | +171% ⎕⎕⎕⎕⎕⎕⎕⎕⎕⎕⎕⎕⎕⎕⎕⎕⎕⎕⎕⎕⎕⎕⎕⎕⎕⎕⎕⎕⎕⎕⎕⎕⎕⎕⎕⎕⎕⎕⎕⎕ \n",
       "</span>"
      ]
     },
     "execution_count": 21,
     "metadata": {},
     "output_type": "execute_result"
    }
   ],
   "source": [
    "⍝ Sorting idioms\n",
    "]runtime -c \"{(⊂⍋⍵)⌷⍵}A\" \"{⍵⌷⍨⊂⍋⍵}A\" "
   ]
  },
  {
   "cell_type": "markdown",
   "metadata": {
    "slideshow": {
     "slide_type": "slide"
    }
   },
   "source": [
    "Use `⎕CT←0` if possible"
   ]
  },
  {
   "cell_type": "markdown",
   "metadata": {
    "slideshow": {
     "slide_type": "slide"
    }
   },
   "source": [
    "## Algorithms and Primitive Complexity\n",
    "Hsu, A.W., 2019. A data parallel compiler hosted on the GPU.\n",
    "\n",
    "APL makes it easy to reason about algorithms."
   ]
  },
  {
   "cell_type": "markdown",
   "metadata": {
    "slideshow": {
     "slide_type": "slide"
    }
   },
   "source": [
    "https://en.wikipedia.org/wiki/Computational_complexity_of_mathematical_operations\n",
    "\n",
    "```APL\n",
    "      +     ⍝ O(n)\n",
    "      |     ⍝ O(n)\n",
    "      ∘.f   ⍝ O(n*2)\n",
    "```"
   ]
  },
  {
   "cell_type": "code",
   "execution_count": 22,
   "metadata": {
    "slideshow": {
     "slide_type": "slide"
    }
   },
   "outputs": [
    {
     "data": {
      "text/html": [
       "<span style=\"white-space:pre; font-family: monospace\">/opt/mdyalog/17.1/64/unicode/ws/dfns.dws saved Tue Nov 12 00:26:19 2019\n",
       "</span>"
      ]
     },
     "execution_count": 22,
     "metadata": {},
     "output_type": "execute_result"
    }
   ],
   "source": [
    "PT0←PrimesTil←{⍸2=+⌿0=∘.|⍨⍳⍵}   ⍝ Primes from 1 to ⍵ using Modulo and Reduction\n",
    "PT1←(⊢~∘.×⍨)1↓⍳                 ⍝ Without Products                             \n",
    ")copy dfns sieve pco                                                           \n",
    "PT2←sieve 1↓⍳                   ⍝ Sieve of Eratosthenes                        \n",
    "PT3←⍸10 pco 1,⊢                 ⍝ dfns.pco (lookup table) "
   ]
  },
  {
   "cell_type": "code",
   "execution_count": 23,
   "metadata": {
    "slideshow": {
     "slide_type": "slide"
    }
   },
   "outputs": [
    {
     "data": {
      "text/html": [
       "<span style=\"white-space:pre; font-family: monospace\">     ∇ sieve←{             ⍝ Sieve of Eratosthenes.       \n",
       "[1]        ⍺←⍬             ⍝ Default no primes yet.       \n",
       "[2]        nxt←1↑⍵         ⍝ Next prime, and              \n",
       "[3]        msk←0≠nxt|⍵     ⍝ ... mask of non-multiples.   \n",
       "[4]        ∧/1↓msk:⍺,⍵     ⍝ All non multiples - finished.\n",
       "[5]        (⍺,nxt)∇ msk/⍵  ⍝ Sieve remainder.             \n",
       "[6]    }                                                  \n",
       "     ∇                                                    \n",
       "</span>"
      ]
     },
     "execution_count": 23,
     "metadata": {},
     "output_type": "execute_result"
    }
   ],
   "source": [
    "⎕VR'sieve'"
   ]
  },
  {
   "cell_type": "code",
   "execution_count": 24,
   "metadata": {
    "slideshow": {
     "slide_type": "slide"
    }
   },
   "outputs": [],
   "source": [
    "_Time←{⍎0 0 0 0.2 cmpx ⍺⍺,' ',⍕⍵}"
   ]
  },
  {
   "cell_type": "code",
   "execution_count": 25,
   "metadata": {
    "slideshow": {
     "slide_type": "slide"
    }
   },
   "outputs": [
    {
     "data": {
      "text/html": [
       "<span style=\"white-space:pre; font-family: monospace\">/opt/mdyalog/17.1/64/unicode/ws/sharpplot.dws saved Tue Nov 12 00:23:00 2019\n",
       "</span>"
      ]
     },
     "execution_count": 25,
     "metadata": {},
     "output_type": "execute_result"
    }
   ],
   "source": [
    ")copy sharpplot"
   ]
  },
  {
   "cell_type": "code",
   "execution_count": 26,
   "metadata": {
    "slideshow": {
     "slide_type": "slide"
    }
   },
   "outputs": [],
   "source": [
    "∇ {key}Plot data;d;n;s\n",
    " :If 0=⎕NC'key'\n",
    "     key←''\n",
    " :EndIf\n",
    " s←⎕NEW SharpPlot\n",
    " n←⊃data\n",
    " :For d :In ⊆⊃⌽data\n",
    "     s.DrawLineGraph d n\n",
    " :EndFor\n",
    " s.SetKeyText key\n",
    " View s\n",
    "∇ "
   ]
  },
  {
   "cell_type": "code",
   "execution_count": 27,
   "metadata": {
    "slideshow": {
     "slide_type": "slide"
    }
   },
   "outputs": [
    {
     "data": {
      "text/html": [
       "<span style=\"white-space:pre; font-family: monospace\">3 5 6 7 10 12 15 19 25 31 39 50 63 79 100\n",
       "</span>"
      ]
     },
     "execution_count": 27,
     "metadata": {},
     "output_type": "execute_result"
    },
    {
     "data": {
      "text/html": [
       "<svg version=\"1.1\" baseProfile=\"full\" width=\"100%\" height=\"100%\" viewBox=\"0 0 4320 3240\"  xmlns=\"http://www.w3.org/2000/svg\" xmlns:xlink=\"http://www.w3.org/1999/xlink\" xmlns:ev=\"http://www.w3.org/2001/xml-events\" >\n",
       "<desc>Created by Causeway SVG engine - SharpPlot v3.62.2</desc>\n",
       "<g stroke-miterlimit=\"100\">\n",
       "<desc>Paint the paper =====</desc>\n",
       " <g fill=\"White\" >\n",
       "  <rect x=\"0\" y=\"0\" width=\"4320\" height=\"3240\" />\n",
       " </g>\n",
       "<desc>Border =====</desc>\n",
       "<desc>Region =====</desc>\n",
       "<desc>X-Axis Ticks =====</desc>\n",
       "<desc>X-Axis tickmarks</desc>\n",
       " <path fill=\"none\" stroke-width=\"7.2\" stroke=\"Black\" d=\"M400 2720L400 2764M770 2720L770 2764M1140 2720L1140 2764M1510 2720L1510 2764M1880 2720L1880 2764M2250 2720L2250 2764M2620 2720L2620 2764M2990 2720L2990 2764M3360 2720L3360 2764M3730 2720L3730 2764M4100 2720L4100 2764\"/>\n",
       "<desc>Y-Axis Ticks =====</desc>\n",
       "<desc>Y-Axis tickmarks</desc>\n",
       " <path fill=\"none\" stroke-width=\"7.2\" stroke=\"Black\" d=\"M400 2720L367 2720M400 2397L367 2397M400 2074L367 2074M400 1751L367 1751M400 1429L367 1429M400 1106L367 1106M400 783L367 783M400 460L367 460\"/>\n",
       "<desc>Axes =====</desc>\n",
       " <path fill=\"none\" stroke-width=\"12\" stroke=\"Black\" d=\"M400 2764L400 416M356 2720L4144 2720\"/>\n",
       "<desc>Y-axis labels</desc>\n",
       " <g font-family=\"Times New Roman\" font-size=\"80\" text-anchor=\"end\" >\n",
       "  <text x=\"335\" y=\"2740\" >0</text>\n",
       "  <text x=\"335\" y=\"2417\" >0.000005</text>\n",
       "  <text x=\"335\" y=\"2094\" >0.00001</text>\n",
       "  <text x=\"335\" y=\"1771\" >0.000015</text>\n",
       "  <text x=\"335\" y=\"1449\" >0.00002</text>\n",
       "  <text x=\"335\" y=\"1126\" >0.000025</text>\n",
       "  <text x=\"335\" y=\"803\" >0.00003</text>\n",
       "  <text x=\"335\" y=\"480\" >0.000035</text>\n",
       " </g>\n",
       "<desc>for X-axis labels</desc>\n",
       " <g font-family=\"Times New Roman\" font-size=\"80\" text-anchor=\"middle\" >\n",
       "  <text x=\"400\" y=\"2844\" >0</text>\n",
       "  <text x=\"770\" y=\"2844\" >10</text>\n",
       "  <text x=\"1140\" y=\"2844\" >20</text>\n",
       "  <text x=\"1510\" y=\"2844\" >30</text>\n",
       "  <text x=\"1880\" y=\"2844\" >40</text>\n",
       "  <text x=\"2250\" y=\"2844\" >50</text>\n",
       "  <text x=\"2620\" y=\"2844\" >60</text>\n",
       "  <text x=\"2990\" y=\"2844\" >70</text>\n",
       "  <text x=\"3360\" y=\"2844\" >80</text>\n",
       "  <text x=\"3730\" y=\"2844\" >90</text>\n",
       "  <text x=\"4100\" y=\"2844\" >100</text>\n",
       " </g>\n",
       "<desc>Heading, subheading and footnotes =====</desc>\n",
       "<desc>Start of Line Chart ===========</desc>\n",
       "<desc>Points follow ...</desc>\n",
       "<desc>Line</desc>\n",
       " <g stroke-width=\"3\" stroke=\"Navy\" stroke-linejoin=\"round\" stroke-linecap=\"round\" fill=\"none\" >\n",
       "  <path d=\"M4100 460L3323 1235 2731 1751 2250 2074 1843 2262 1547 2378 1325 2449 1103 2500 955 2533 844 2546 770 2559 659 2571 622 2571 585 2571 511 2578\" />\n",
       " </g>\n",
       "<desc>Start of Line Chart ===========</desc>\n",
       "<desc>Points follow ...</desc>\n",
       "<desc>Line</desc>\n",
       " <g stroke-width=\"3\" stroke=\"Maroon\" stroke-linejoin=\"round\" stroke-linecap=\"round\" stroke-dasharray=\"9 12\" fill=\"none\" >\n",
       "  <path d=\"M4100 1558L3323 1945 2731 2152 2250 2294 1843 2397 1547 2475 1325 2507 1103 2546 955 2559 844 2571 770 2584 659 2597 622 2597 585 2604 511 2610\" />\n",
       " </g>\n",
       "<desc>Start of Line Chart ===========</desc>\n",
       "<desc>Points follow ...</desc>\n",
       "<desc>Line</desc>\n",
       " <g stroke-width=\"3\" stroke=\"Teal\" stroke-linejoin=\"round\" stroke-linecap=\"round\" stroke-dasharray=\"0.3 5.7\" fill=\"none\" >\n",
       "  <path d=\"M4100 1622L3323 1558 2731 1558 2250 1558 1843 1816 1547 1816 1325 1816 1103 2010 955 2010 844 2010 770 2010 659 2236 622 2249 585 2249 511 2468\" />\n",
       " </g>\n",
       "<desc>Start of Line Chart ===========</desc>\n",
       "<desc>Points follow ...</desc>\n",
       "<desc>Clipped Line</desc>\n",
       " <g stroke-width=\"3\" stroke=\"Green\" stroke-linejoin=\"round\" stroke-linecap=\"round\" stroke-dasharray=\"9 6.45 0.3 6.45\" fill=\"none\" >\n",
       "  <path d=\"M2880 40L2731 73 2250 73 1843 460 1547 460 1325 460 1103 460 955 460 844 525 770 460 659 460 622 395 585 460 511 460\" />\n",
       " </g>\n",
       "<desc>Key =====</desc>\n",
       "<desc>Key - Line</desc>\n",
       " <g stroke-width=\"3\" stroke=\"Navy\" fill=\"none\" >\n",
       "  <path d=\"M643 3005L490 3005\" />\n",
       " </g>\n",
       "<desc>Key - Line</desc>\n",
       " <g stroke-width=\"3\" stroke=\"Maroon\" stroke-linecap=\"round\" stroke-dasharray=\"9 12\" fill=\"none\" >\n",
       "  <path d=\"M1569 3005L1416 3005\" />\n",
       " </g>\n",
       "<desc>Key - Line</desc>\n",
       " <g stroke-width=\"3\" stroke=\"Teal\" stroke-linecap=\"round\" stroke-dasharray=\"0.3 5.7\" fill=\"none\" >\n",
       "  <path d=\"M2476 3005L2323 3005\" />\n",
       " </g>\n",
       "<desc>Key - Line</desc>\n",
       " <g stroke-width=\"3\" stroke=\"Green\" stroke-linecap=\"round\" stroke-dasharray=\"9 6.45 0.3 6.45\" fill=\"none\" >\n",
       "  <path d=\"M2955 3005L2802 3005\" />\n",
       " </g>\n",
       " <g fill=\"Navy\" font-family=\"Times New Roman\" font-size=\"90\" >\n",
       "  <text x=\"688\" y=\"3032\" >Modulo reduction</text>\n",
       " </g>\n",
       " <g fill=\"Navy\" font-family=\"Times New Roman\" font-size=\"90\" >\n",
       "  <text x=\"1614\" y=\"3032\" >Without products</text>\n",
       " </g>\n",
       " <g fill=\"Navy\" font-family=\"Times New Roman\" font-size=\"90\" >\n",
       "  <text x=\"2521\" y=\"3032\" >Sieve</text>\n",
       " </g>\n",
       " <g fill=\"Navy\" font-family=\"Times New Roman\" font-size=\"90\" >\n",
       "  <text x=\"3000\" y=\"3032\" >dfns.pco</text>\n",
       " </g>\n",
       "<desc>Reset to original origin</desc>\n",
       "</g>\n",
       "</svg>\n"
      ]
     },
     "execution_count": 27,
     "metadata": {},
     "output_type": "execute_result"
    }
   ],
   "source": [
    "⊢n←5↓⌊10*0.1×⍳20\n",
    "'Modulo reduction' 'Without products' 'Sieve' 'dfns.pco' Plot n{⍺⍵}('PT0'_Time¨n)('PT1'_Time¨n)('PT2'_Time¨n)('PT3'_Time¨n)"
   ]
  },
  {
   "cell_type": "code",
   "execution_count": 28,
   "metadata": {
    "slideshow": {
     "slide_type": "slide"
    }
   },
   "outputs": [
    {
     "data": {
      "text/html": [
       "<span style=\"white-space:pre; font-family: monospace\">12 15 19 25 31 39 50 63 79 100 125 158 199\n",
       "</span>"
      ]
     },
     "execution_count": 28,
     "metadata": {},
     "output_type": "execute_result"
    },
    {
     "data": {
      "text/html": [
       "<svg version=\"1.1\" baseProfile=\"full\" width=\"100%\" height=\"100%\" viewBox=\"0 0 4320 3240\"  xmlns=\"http://www.w3.org/2000/svg\" xmlns:xlink=\"http://www.w3.org/1999/xlink\" xmlns:ev=\"http://www.w3.org/2001/xml-events\" >\n",
       "<desc>Created by Causeway SVG engine - SharpPlot v3.62.2</desc>\n",
       "<g stroke-miterlimit=\"100\">\n",
       "<desc>Paint the paper =====</desc>\n",
       " <g fill=\"White\" >\n",
       "  <rect x=\"0\" y=\"0\" width=\"4320\" height=\"3240\" />\n",
       " </g>\n",
       "<desc>Border =====</desc>\n",
       "<desc>Region =====</desc>\n",
       "<desc>X-Axis Ticks =====</desc>\n",
       "<desc>X-Axis tickmarks</desc>\n",
       " <path fill=\"none\" stroke-width=\"7.2\" stroke=\"Black\" d=\"M400 2720L400 2764M770 2720L770 2764M1140 2720L1140 2764M1510 2720L1510 2764M1880 2720L1880 2764M2250 2720L2250 2764M2620 2720L2620 2764M2990 2720L2990 2764M3360 2720L3360 2764M3730 2720L3730 2764M4100 2720L4100 2764\"/>\n",
       "<desc>Y-Axis Ticks =====</desc>\n",
       "<desc>Y-Axis tickmarks</desc>\n",
       " <path fill=\"none\" stroke-width=\"7.2\" stroke=\"Black\" d=\"M400 2720L367 2720M400 2397L367 2397M400 2074L367 2074M400 1751L367 1751M400 1429L367 1429M400 1106L367 1106M400 783L367 783M400 460L367 460\"/>\n",
       "<desc>Axes =====</desc>\n",
       " <path fill=\"none\" stroke-width=\"12\" stroke=\"Black\" d=\"M400 2764L400 416M356 2720L4144 2720\"/>\n",
       "<desc>Y-axis labels</desc>\n",
       " <g font-family=\"Times New Roman\" font-size=\"80\" text-anchor=\"end\" >\n",
       "  <text x=\"335\" y=\"2740\" >0</text>\n",
       "  <text x=\"335\" y=\"2417\" >0.00002</text>\n",
       "  <text x=\"335\" y=\"2094\" >0.00004</text>\n",
       "  <text x=\"335\" y=\"1771\" >0.00006</text>\n",
       "  <text x=\"335\" y=\"1449\" >0.00008</text>\n",
       "  <text x=\"335\" y=\"1126\" >0.0001</text>\n",
       "  <text x=\"335\" y=\"803\" >0.00012</text>\n",
       "  <text x=\"335\" y=\"480\" >0.00014</text>\n",
       " </g>\n",
       "<desc>for X-axis labels</desc>\n",
       " <g font-family=\"Times New Roman\" font-size=\"80\" text-anchor=\"middle\" >\n",
       "  <text x=\"400\" y=\"2844\" >0</text>\n",
       "  <text x=\"770\" y=\"2844\" >20</text>\n",
       "  <text x=\"1140\" y=\"2844\" >40</text>\n",
       "  <text x=\"1510\" y=\"2844\" >60</text>\n",
       "  <text x=\"1880\" y=\"2844\" >80</text>\n",
       "  <text x=\"2250\" y=\"2844\" >100</text>\n",
       "  <text x=\"2620\" y=\"2844\" >120</text>\n",
       "  <text x=\"2990\" y=\"2844\" >140</text>\n",
       "  <text x=\"3360\" y=\"2844\" >160</text>\n",
       "  <text x=\"3730\" y=\"2844\" >180</text>\n",
       "  <text x=\"4100\" y=\"2844\" >200</text>\n",
       " </g>\n",
       "<desc>Heading, subheading and footnotes =====</desc>\n",
       "<desc>Start of Line Chart ===========</desc>\n",
       "<desc>Points follow ...</desc>\n",
       "<desc>Line</desc>\n",
       " <g stroke-width=\"3\" stroke=\"Navy\" stroke-linejoin=\"round\" stroke-linecap=\"round\" fill=\"none\" >\n",
       "  <path d=\"M4082 460L3323 1316 2713 1864 2250 2155 1862 2349 1566 2478 1325 2542 1122 2607 974 2633 863 2651 752 2665 678 2672 622 2676\" />\n",
       " </g>\n",
       "<desc>Start of Line Chart ===========</desc>\n",
       "<desc>Points follow ...</desc>\n",
       "<desc>Clipped Line</desc>\n",
       " <g stroke-width=\"3\" stroke=\"Maroon\" stroke-linejoin=\"round\" stroke-linecap=\"round\" stroke-dasharray=\"9 12\" fill=\"none\" >\n",
       "  <path d=\"M2824 40L2713 2300 2250 2429 1862 2510 1566 2578 1325 2609 1122 2639 974 2657 863 2665 752 2675 678 2680 622 2683\" />\n",
       " </g>\n",
       "<desc>Start of Line Chart ===========</desc>\n",
       "<desc>Points follow ...</desc>\n",
       "<desc>Line</desc>\n",
       " <g stroke-width=\"3\" stroke=\"Teal\" stroke-linejoin=\"round\" stroke-linecap=\"round\" stroke-dasharray=\"0.3 5.7\" fill=\"none\" >\n",
       "  <path d=\"M4082 2316L3323 2381 2713 2381 2250 2446 1862 2446 1566 2446 1325 2429 1122 2494 974 2494 863 2478 752 2542 678 2542 622 2542\" />\n",
       " </g>\n",
       "<desc>Start of Line Chart ===========</desc>\n",
       "<desc>Points follow ...</desc>\n",
       "<desc>Line</desc>\n",
       " <g stroke-width=\"3\" stroke=\"Green\" stroke-linejoin=\"round\" stroke-linecap=\"round\" stroke-dasharray=\"9 6.45 0.3 6.45\" fill=\"none\" >\n",
       "  <path d=\"M4082 1784L3323 1897 2713 1913 2250 2026 1862 2026 1566 2058 1325 2058 1122 2155 974 2155 863 2171 752 2155 678 2155 622 2155\" />\n",
       " </g>\n",
       "<desc>Key =====</desc>\n",
       "<desc>Key - Line</desc>\n",
       " <g stroke-width=\"3\" stroke=\"Navy\" fill=\"none\" >\n",
       "  <path d=\"M643 3005L490 3005\" />\n",
       " </g>\n",
       "<desc>Key - Line</desc>\n",
       " <g stroke-width=\"3\" stroke=\"Maroon\" stroke-linecap=\"round\" stroke-dasharray=\"9 12\" fill=\"none\" >\n",
       "  <path d=\"M1569 3005L1416 3005\" />\n",
       " </g>\n",
       "<desc>Key - Line</desc>\n",
       " <g stroke-width=\"3\" stroke=\"Teal\" stroke-linecap=\"round\" stroke-dasharray=\"0.3 5.7\" fill=\"none\" >\n",
       "  <path d=\"M2476 3005L2323 3005\" />\n",
       " </g>\n",
       "<desc>Key - Line</desc>\n",
       " <g stroke-width=\"3\" stroke=\"Green\" stroke-linecap=\"round\" stroke-dasharray=\"9 6.45 0.3 6.45\" fill=\"none\" >\n",
       "  <path d=\"M2955 3005L2802 3005\" />\n",
       " </g>\n",
       " <g fill=\"Navy\" font-family=\"Times New Roman\" font-size=\"90\" >\n",
       "  <text x=\"688\" y=\"3032\" >Modulo reduction</text>\n",
       " </g>\n",
       " <g fill=\"Navy\" font-family=\"Times New Roman\" font-size=\"90\" >\n",
       "  <text x=\"1614\" y=\"3032\" >Without products</text>\n",
       " </g>\n",
       " <g fill=\"Navy\" font-family=\"Times New Roman\" font-size=\"90\" >\n",
       "  <text x=\"2521\" y=\"3032\" >Sieve</text>\n",
       " </g>\n",
       " <g fill=\"Navy\" font-family=\"Times New Roman\" font-size=\"90\" >\n",
       "  <text x=\"3000\" y=\"3032\" >dfns.pco</text>\n",
       " </g>\n",
       "<desc>Reset to original origin</desc>\n",
       "</g>\n",
       "</svg>\n"
      ]
     },
     "execution_count": 28,
     "metadata": {},
     "output_type": "execute_result"
    }
   ],
   "source": [
    "⊢n←5↓⌊10*0.1×5+⍳18\n",
    "⍝ 'Without products' 'Sieve' Plot n{⍺⍵}('PT1'_Time¨n)('PT2'_Time¨n)\n",
    "'Modulo reduction' 'Without products' 'Sieve' 'dfns.pco' Plot n{⍺⍵}('PT0'_Time¨n)('PT1'_Time¨n)('PT2'_Time¨n)('PT3'_Time¨n)"
   ]
  },
  {
   "cell_type": "markdown",
   "metadata": {
    "slideshow": {
     "slide_type": "slide"
    }
   },
   "source": [
    "## Compilation\n",
    "- [Co-dfns](https://github.com/Co-dfns/Co-dfns)\n",
    "- [Jay's Dyalog Compiler](http://docs.dyalog.com/latest/Compiler%20User%20Guide.pdf)\n",
    "- [APEX: The APL Parallel Executor](http://snakeisland.com/apexup.htm)"
   ]
  },
  {
   "cell_type": "markdown",
   "metadata": {
    "slideshow": {
     "slide_type": "slide"
    }
   },
   "source": [
    "## Fast APL\n",
    "- Analysis and profiling\n",
    "- Mitigating hotspots through \n",
    " - Implementing mechanical sympathy\n",
    " - Using special cased code (The Interpretive Advantage)\n",
    " - Compiling chunks\n",
    " - Outsourcing jobs\n",
    "- Algorithms and primitive complexity"
   ]
  },
  {
   "cell_type": "markdown",
   "metadata": {
    "slideshow": {
     "slide_type": "slide"
    }
   },
   "source": [
    "## Next Webinar\n",
    "Thursday 19th March 16:00 UTC\n",
    "\n",
    "Progressive set functions\n",
    "\n",
    "Richard Park"
   ]
  }
 ],
 "metadata": {
  "kernelspec": {
   "display_name": "Dyalog APL",
   "language": "apl",
   "name": "dyalog-kernel"
  },
  "language_info": {
   "file_extension": ".apl",
   "mimetype": "text/apl",
   "name": "APL"
  }
 },
 "nbformat": 4,
 "nbformat_minor": 4
}
