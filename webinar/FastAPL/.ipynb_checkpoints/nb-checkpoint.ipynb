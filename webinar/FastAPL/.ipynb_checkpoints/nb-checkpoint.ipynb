{
 "cells": [
  {
   "cell_type": "markdown",
   "metadata": {
    "slideshow": {
     "slide_type": "slide"
    }
   },
   "source": [
    "# Fast APL\n",
    "An overview of topics related to writing performant code and optimising existing code."
   ]
  },
  {
   "cell_type": "markdown",
   "metadata": {
    "slideshow": {
     "slide_type": "slide"
    }
   },
   "source": [
    "## Audience\n",
    "This discussion is aimed at users. \n",
    "\n",
    "[https://aplwiki.com/wiki/Performance](https://aplwiki.com/wiki/Performance) has links to media related to performant implementation."
   ]
  },
  {
   "cell_type": "markdown",
   "metadata": {
    "slideshow": {
     "slide_type": "slide"
    }
   },
   "source": [
    "## Goals for code\n",
    "In APL, the ability to express similar ideas (or even the exact same idea) in multiple ways is quite pronounced. \n",
    "\n",
    "This double-edged sword of language is both one of the most enjoyable parts of writing (choosing an expression which suits oneself), but it is also a source of frustration (\"How can I express that better?\" \"What is a better way to put that?\" \"What is the best way to express this idea?\")."
   ]
  },
  {
   "cell_type": "markdown",
   "metadata": {
    "slideshow": {
     "slide_type": "slide"
    }
   },
   "source": [
    "### \"*Better code*\"\n",
    "\n",
    "- **Aaron Hsu:** *How much (money) are you willing to bet on this code?*\n",
    "- **Roger Hui:** *Monument quality code*\n",
    "\n",
    "---\n",
    "- **Accurate**\n",
    "- **Reliable**"
   ]
  },
  {
   "cell_type": "markdown",
   "metadata": {
    "slideshow": {
     "slide_type": "slide"
    }
   },
   "source": [
    "### Variables\n",
    "Reference: [Dyalog Webinars: APL CodeGolf Autumn Tournament](https://youtu.be/3FjYly2G_QI?t=315)\n",
    "\n",
    "- **Accurate**\n",
    "- **Reliable**\n",
    "---\n",
    "- **Readable:** Can a stranger understand it?\n",
    "- **Fast:** Does it perform in reasonable time using reasonable resources?\n",
    "- **Short:** APLers need not be convinced\n",
    "- **Balanced**\n",
    "\n",
    "Here we advocate for balanced code, as this is desirable in production."
   ]
  },
  {
   "cell_type": "markdown",
   "metadata": {
    "slideshow": {
     "slide_type": "slide"
    }
   },
   "source": [
    "## Fast APL\n",
    "- Analysis and profiling\n",
    "- Mitigating hotspots through \n",
    " - Implementing mechanical sympathy\n",
    " - Using special cased code (The Interpretive Advantage)\n",
    " - Compiling chunks\n",
    " - Outsourcing jobs\n",
    "- Algorithms and primitive complexity"
   ]
  },
  {
   "cell_type": "markdown",
   "metadata": {
    "slideshow": {
     "slide_type": "slide"
    }
   },
   "source": [
    "## Analysis and profiling"
   ]
  },
  {
   "cell_type": "markdown",
   "metadata": {
    "slideshow": {
     "slide_type": "slide"
    }
   },
   "source": [
    "### Rule `⎕IO`\n",
    "Do **not** optimise code which has **not** been measured as **slow** in realistic situations.\n",
    "\n",
    "Optimised code is often longer and much less readable."
   ]
  },
  {
   "cell_type": "markdown",
   "metadata": {
    "slideshow": {
     "slide_type": "slide"
    }
   },
   "source": [
    "`dfns.life`"
   ]
  },
  {
   "cell_type": "code",
   "execution_count": null,
   "metadata": {
    "slideshow": {
     "slide_type": "slide"
    }
   },
   "outputs": [],
   "source": [
    "R←¯2⌽¯1⊖5 7↑(3 3⍴⍳9)∊2 3 4 5 8\n",
    "lifeNested←{↑1 ⍵∨.∧3 4=+/,¯1 0 1∘.⌽¯1 0 1∘.⊖⊂⍵}\n",
    "lifeFlat←{(3=c)∨⍵∧4=c←+⌿,[1 2]¯1 0 1⊖⍤0 99⍤99 2⊢¯1 0 1⌽⍤0 99⊢⍵}"
   ]
  },
  {
   "cell_type": "markdown",
   "metadata": {
    "slideshow": {
     "slide_type": "slide"
    }
   },
   "source": [
    "### Code analysis tools\n",
    "```APL\n",
    "⎕PROFILE   ]Profile\n",
    "dfns.cmpx  ]Runtime\n",
    "```"
   ]
  },
  {
   "cell_type": "code",
   "execution_count": null,
   "metadata": {
    "slideshow": {
     "slide_type": "slide"
    }
   },
   "outputs": [],
   "source": [
    "]runtime -c \"lifeFlat R\" \"lifeNested R\" "
   ]
  },
  {
   "cell_type": "markdown",
   "metadata": {
    "slideshow": {
     "slide_type": "slide"
    }
   },
   "source": [
    "$${(\\sum_{n=1}^{N}A_n})\\div{N}$$\n",
    "$$\\sum_{n=1}^{N}({A_n}\\div{N})$$"
   ]
  },
  {
   "cell_type": "markdown",
   "metadata": {
    "slideshow": {
     "slide_type": "slide"
    }
   },
   "source": [
    "$${(\\sum_{n=1}^{N}A_n})\\div{N}$$"
   ]
  },
  {
   "cell_type": "code",
   "execution_count": null,
   "metadata": {},
   "outputs": [],
   "source": [
    "]dinput\n",
    "avg1←{\n",
    "  N←≢⍵    ⍝ Count elements\n",
    "  s←+⌿⍵   ⍝ Sum elements \n",
    "  s÷N     ⍝ Sum divided by count\n",
    "}"
   ]
  },
  {
   "cell_type": "markdown",
   "metadata": {
    "slideshow": {
     "slide_type": "slide"
    }
   },
   "source": [
    "$$\\sum_{n=1}^{N}({A_n}\\div{N})$$"
   ]
  },
  {
   "cell_type": "code",
   "execution_count": null,
   "metadata": {},
   "outputs": [],
   "source": [
    "]dinput\n",
    "avg2←{\n",
    "  N←≢⍵    ⍝ Count elements \n",
    "  n←⍵÷N   ⍝ Array divided by count\n",
    "  +⌿n     ⍝ Sum\n",
    "}"
   ]
  },
  {
   "cell_type": "code",
   "execution_count": null,
   "metadata": {
    "slideshow": {
     "slide_type": "slide"
    }
   },
   "outputs": [],
   "source": [
    ")copy dfns cmpx\n",
    "n←?⍨1000\n",
    "cmpx 'avg1 n' 'avg2 n'"
   ]
  },
  {
   "cell_type": "code",
   "execution_count": null,
   "metadata": {
    "slideshow": {
     "slide_type": "slide"
    }
   },
   "outputs": [],
   "source": [
    "⎕PROFILE 'start'\n",
    "avg1 n\n",
    "⎕PROFILE 'stop'\n",
    "]Profile"
   ]
  },
  {
   "cell_type": "code",
   "execution_count": null,
   "metadata": {
    "slideshow": {
     "slide_type": "slide"
    }
   },
   "outputs": [],
   "source": [
    "repeat←1e4\n",
    "_Profile←{⍺←1 ⋄ _←⎕PROFILE'clear' ⋄ _←⎕PROFILE 'start' ⋄ r←⍺⍺¨⍺⍴⊂⍵ ⋄ _←⎕PROFILE 'stop'}"
   ]
  },
  {
   "cell_type": "code",
   "execution_count": null,
   "metadata": {
    "slideshow": {
     "slide_type": "slide"
    }
   },
   "outputs": [],
   "source": [
    "repeat avg1 _Profile n\n",
    "⎕VR'avg1'\n",
    "]profile -lines"
   ]
  },
  {
   "cell_type": "code",
   "execution_count": null,
   "metadata": {
    "slideshow": {
     "slide_type": "slide"
    }
   },
   "outputs": [],
   "source": [
    "repeat avg2 _Profile n\n",
    "⎕VR'avg2'\n",
    "]profile -lines"
   ]
  },
  {
   "cell_type": "markdown",
   "metadata": {
    "slideshow": {
     "slide_type": "slide"
    }
   },
   "source": [
    "## Mechanical Sympathy\n",
    "[Dyalog '18: Rectangles All The Way Down](https://www.youtube.com/watch?v=mK2WUDIY4hk)"
   ]
  },
  {
   "cell_type": "markdown",
   "metadata": {
    "slideshow": {
     "slide_type": "slide"
    }
   },
   "source": [
    "Relatively easy gains"
   ]
  },
  {
   "cell_type": "markdown",
   "metadata": {
    "slideshow": {
     "slide_type": "slide"
    }
   },
   "source": [
    "Avoid nested arrays or mixed-type arrays"
   ]
  },
  {
   "cell_type": "code",
   "execution_count": null,
   "metadata": {
    "slideshow": {
     "slide_type": "slide"
    }
   },
   "outputs": [],
   "source": [
    "3 4⍴⎕A ⍝ 3 4  ⍴  'A' 'B' 'C' 'D' 'E' 'F' 'G' 'H' 'I' 'J' 'K' 'L'"
   ]
  },
  {
   "cell_type": "code",
   "execution_count": null,
   "metadata": {
    "slideshow": {
     "slide_type": "slide"
    }
   },
   "outputs": [],
   "source": [
    "⍝ 2 3  ⍴  p0 p1 p2 p3 p4 p5\n",
    "⍝ p0 → 2 2  ⍴  1 2 3 4\n",
    "⍝ p1 → 5  ⍴  'a' 'b' 'c' 'd' 'e'\n",
    "⍝ p2 → 2 3  ⍴  p6 p6 p6 p6\n",
    "⍝ p3 → ⍬  ⍴  1\n",
    "⍝ p4 → 2  ⍴  p7 p8\n",
    "⍝ p5 → ⍬  ⍴  3\n",
    "⍝ p6 → 4  ⍴  'w' 'o' 'r' 'd'\n",
    "⍝ p7 → ⍬  ⍴  2\n",
    "⍝ p8 → ⍬  ⍴  'b'\n",
    "2 3⍴(2 2⍴⍳4)'abcde'(2 3⍴⊂'word')1 (2'b') 3"
   ]
  },
  {
   "cell_type": "code",
   "execution_count": null,
   "metadata": {
    "slideshow": {
     "slide_type": "slide"
    }
   },
   "outputs": [],
   "source": [
    "⎕←5↑posNest←?500⍴⊂3⍴10\n",
    "⎕←5↑posFlat←↑posNest"
   ]
  },
  {
   "cell_type": "code",
   "execution_count": null,
   "metadata": {
    "slideshow": {
     "slide_type": "slide"
    }
   },
   "outputs": [],
   "source": [
    "]runtime -c \"0.5*⍨+/2*⍨-⍤1⍤1 99⍨posFlat\" \"0.5*⍨+/¨2*⍨∘.-⍨posNest\" "
   ]
  },
  {
   "cell_type": "markdown",
   "metadata": {
    "slideshow": {
     "slide_type": "slide"
    }
   },
   "source": [
    "Use inverted tables: [Dyalog '18: Inverted Tables]()\n",
    "```APL\n",
    "8⌶\n",
    "```"
   ]
  },
  {
   "cell_type": "markdown",
   "metadata": {
    "slideshow": {
     "slide_type": "slide"
    }
   },
   "source": [
    "Do work on large arrays where possible"
   ]
  },
  {
   "cell_type": "code",
   "execution_count": null,
   "metadata": {
    "slideshow": {
     "slide_type": "slide"
    }
   },
   "outputs": [],
   "source": [
    "b←1=?100 100⍴2\n",
    "]runtime -c \"+/,3<{+/,⍵}⌺3 3⊢b\" \"+/,{3<+/,⍵}⌺3 3⊢b\" "
   ]
  },
  {
   "cell_type": "markdown",
   "metadata": {
    "slideshow": {
     "slide_type": "slide"
    }
   },
   "source": [
    "## Using special cased code \n",
    "[Dyalog '18: The Interpretive Advantage](https://www.youtube.com/watch?v=-6no6N3i9Tg)"
   ]
  },
  {
   "cell_type": "code",
   "execution_count": null,
   "metadata": {
    "slideshow": {
     "slide_type": "slide"
    }
   },
   "outputs": [],
   "source": [
    "A←?1e4⍴1e2\n",
    "]runtime -c \"{≢⍵}⌸A\" \"{≢⊢⍵}⌸A\" "
   ]
  },
  {
   "cell_type": "markdown",
   "metadata": {
    "slideshow": {
     "slide_type": "slide"
    }
   },
   "source": [
    "[Dyalog idioms](https://help.dyalog.com/latest/index.htm#Language/Defined%20Functions%20and%20Operators/Idiom%20Recognition/Idiom%20List.htm)\n",
    "\n",
    "Search: *dyalog help idiom list*"
   ]
  },
  {
   "cell_type": "code",
   "execution_count": null,
   "metadata": {
    "slideshow": {
     "slide_type": "slide"
    }
   },
   "outputs": [],
   "source": [
    "⍝ Sorting idioms\n",
    "]runtime -c \"{(⊂⍋⍵)⌷⍵}A\" \"{⍵⌷⍨⊂⍋⍵}A\" "
   ]
  },
  {
   "cell_type": "markdown",
   "metadata": {
    "slideshow": {
     "slide_type": "slide"
    }
   },
   "source": [
    "Use `⎕CT←0` if possible"
   ]
  },
  {
   "cell_type": "markdown",
   "metadata": {
    "slideshow": {
     "slide_type": "slide"
    }
   },
   "source": [
    "## Algorithms and Primitive Complexity\n",
    "Hsu, A.W., 2019. A data parallel compiler hosted on the GPU.\n",
    "\n",
    "APL makes it easy to reason about algorithms."
   ]
  },
  {
   "cell_type": "code",
   "execution_count": null,
   "metadata": {
    "slideshow": {
     "slide_type": "slide"
    }
   },
   "outputs": [],
   "source": [
    "PT0←PrimesTil←{⍸2=+⌿0=∘.|⍨⍳⍵}   ⍝ Primes from 1 to ⍵ using Modulo and Reduction\n",
    "PT1←(⊢~∘.×⍨)1↓⍳                 ⍝ Without Products                             \n",
    ")copy dfns sieve pco                                                           \n",
    "PT2←sieve 1↓⍳                   ⍝ Sieve of Eratosthenes                        \n",
    "PT3←⍸10 pco 1,⊢                 ⍝ dfns.pco (lookup table) "
   ]
  },
  {
   "cell_type": "code",
   "execution_count": null,
   "metadata": {
    "slideshow": {
     "slide_type": "slide"
    }
   },
   "outputs": [],
   "source": [
    "⎕VR'sieve'"
   ]
  },
  {
   "cell_type": "code",
   "execution_count": null,
   "metadata": {
    "slideshow": {
     "slide_type": "slide"
    }
   },
   "outputs": [],
   "source": [
    "_Time←{⍎0 0 0 0.2 cmpx ⍺⍺,' ',⍕⍵}"
   ]
  },
  {
   "cell_type": "code",
   "execution_count": null,
   "metadata": {
    "slideshow": {
     "slide_type": "slide"
    }
   },
   "outputs": [],
   "source": [
    ")copy sharpplot"
   ]
  },
  {
   "cell_type": "code",
   "execution_count": null,
   "metadata": {
    "slideshow": {
     "slide_type": "slide"
    }
   },
   "outputs": [],
   "source": [
    "∇ {key}Plot data;d;n;s\n",
    " :If 0=⎕NC'key'\n",
    "     key←''\n",
    " :EndIf\n",
    " s←⎕NEW SharpPlot\n",
    " n←⊃data\n",
    " :For d :In ⊆⊃⌽data\n",
    "     s.DrawLineGraph d n\n",
    " :EndFor\n",
    " s.SetKeyText key\n",
    " View s\n",
    "∇ "
   ]
  },
  {
   "cell_type": "code",
   "execution_count": null,
   "metadata": {
    "slideshow": {
     "slide_type": "slide"
    }
   },
   "outputs": [],
   "source": [
    "⊢n←5↓⌊10*0.1×⍳20\n",
    "'Modulo reduction' 'Without products' 'Sieve' 'dfns.pco' Plot n{⍺⍵}('PT0'_Time¨n)('PT1'_Time¨n)('PT2'_Time¨n)('PT3'_Time¨n)"
   ]
  },
  {
   "cell_type": "code",
   "execution_count": null,
   "metadata": {
    "slideshow": {
     "slide_type": "slide"
    }
   },
   "outputs": [],
   "source": [
    "⊢n←5↓⌊10*0.1×5+⍳18\n",
    "⍝ 'Without products' 'Sieve' Plot n{⍺⍵}('PT1'_Time¨n)('PT2'_Time¨n)\n",
    "'Modulo reduction' 'Without products' 'Sieve' 'dfns.pco' Plot n{⍺⍵}('PT0'_Time¨n)('PT1'_Time¨n)('PT2'_Time¨n)('PT3'_Time¨n)"
   ]
  },
  {
   "cell_type": "markdown",
   "metadata": {
    "slideshow": {
     "slide_type": "slide"
    }
   },
   "source": [
    "## Compilation\n",
    "- [Co-dfns](https://github.com/Co-dfns/Co-dfns)\n",
    "- [Jay's Dyalog Compiler](http://docs.dyalog.com/latest/Compiler%20User%20Guide.pdf)\n",
    "- [APEX: The APL Parallel Executor](http://snakeisland.com/apexup.htm)"
   ]
  },
  {
   "cell_type": "markdown",
   "metadata": {
    "slideshow": {
     "slide_type": "slide"
    }
   },
   "source": [
    "## Fast APL\n",
    "- Analysis and profiling\n",
    "- Mitigating hotspots through \n",
    " - Implementing mechanical sympathy\n",
    " - Using special cased code (The Interpretive Advantage)\n",
    " - Compiling chunks\n",
    " - Outsourcing jobs\n",
    "- Algorithms and primitive complexity"
   ]
  },
  {
   "cell_type": "markdown",
   "metadata": {
    "slideshow": {
     "slide_type": "slide"
    }
   },
   "source": [
    "## Next Webinar\n",
    "Thursday 19th March 16:00 UTC\n",
    "\n",
    "Progressive set functions\n",
    "\n",
    "Richard Park"
   ]
  }
 ],
 "metadata": {
  "kernelspec": {
   "display_name": "Dyalog APL",
   "language": "apl",
   "name": "dyalog-kernel"
  },
  "language_info": {
   "file_extension": ".apl",
   "mimetype": "text/apl",
   "name": "APL"
  }
 },
 "nbformat": 4,
 "nbformat_minor": 4
}
