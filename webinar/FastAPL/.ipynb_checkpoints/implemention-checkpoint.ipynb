{
 "cells": [
  {
   "cell_type": "markdown",
   "metadata": {},
   "source": [
    "# Performance of APL implementation\n",
    "Articles and media related to performant APL from the implementor's perspective."
   ]
  },
  {
   "cell_type": "markdown",
   "metadata": {},
   "source": [
    "## Read\n",
    "- SnakeIsland (Robert Bernecky)\n",
    "  - [Profiling, Performance, and Perfection ](http://snakeisland.com/profile.htm)\n",
    "  - [Reducing Computational Complexity with Array Predicates](https://www.snakeisland.com/predicat.pdf)\n",
    "- Dyalog blog\n",
    "  - [Roger Hui: In Praise of Magic Functions](http://www.dyalog.com/blog/2015/06/in-praise-of-magic-functions-part-one/)"
   ]
  },
  {
   "cell_type": "markdown",
   "metadata": {},
   "source": [
    "## Watch\n",
    "- [Dyalog '13: Primitive Performance](https://www.youtube.com/watch?v=84t87EO5ZEE)"
   ]
  }
 ],
 "metadata": {
  "kernelspec": {
   "display_name": "Dyalog APL",
   "language": "apl",
   "name": "dyalog-kernel"
  },
  "language_info": {
   "file_extension": ".apl",
   "mimetype": "text/apl",
   "name": "APL"
  }
 },
 "nbformat": 4,
 "nbformat_minor": 4
}
