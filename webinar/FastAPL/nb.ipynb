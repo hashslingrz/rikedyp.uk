{
 "cells": [
  {
   "cell_type": "markdown",
   "metadata": {
    "slideshow": {
     "slide_type": "slide"
    }
   },
   "source": [
    "# Fast APL\n",
    "An overview of topics related to writing performant code and optimising existing code."
   ]
  },
  {
   "cell_type": "markdown",
   "metadata": {
    "slideshow": {
     "slide_type": "slide"
    }
   },
   "source": [
    "## Audience\n",
    "This discussion is aimed at users. \n",
    "\n",
    "[https://aplwiki.com/wiki/Performance](https://aplwiki.com/wiki/Performance) has links to media related to performant implementation."
   ]
  },
  {
   "cell_type": "markdown",
   "metadata": {
    "slideshow": {
     "slide_type": "slide"
    }
   },
   "source": [
    "## Goals for code\n",
    "In APL, the ability to express similar ideas (or even the exact same idea) in multiple ways is quite pronounced. \n",
    "\n",
    "This double-edged sword of language is both one of the most enjoyable parts of writing (choosing an expression which suits oneself), but it is also a source of frustration (\"How can I express that better?\" \"What is a better way to put that?\" \"What is the best way to express this idea?\")."
   ]
  },
  {
   "cell_type": "markdown",
   "metadata": {
    "slideshow": {
     "slide_type": "slide"
    }
   },
   "source": [
    "### \"*Better code*\"\n",
    "\n",
    "- **Aaron Hsu:** *How much (money) are you willing to bet on this code?*\n",
    "- **Roger Hui:** *Monument quality code*\n",
    "\n",
    "---\n",
    "- **Accurate**\n",
    "- **Reliable**"
   ]
  },
  {
   "cell_type": "markdown",
   "metadata": {
    "slideshow": {
     "slide_type": "slide"
    }
   },
   "source": [
    "### Variables\n",
    "Reference: [Dyalog Webinars: APL CodeGolf Autumn Tournament](https://youtu.be/3FjYly2G_QI?t=315)\n",
    "\n",
    "- **Accurate**\n",
    "- **Reliable**\n",
    "---\n",
    "- **Readable:** Can a stranger understand it?\n",
    "- **Fast:** Does it perform in reasonable time using reasonable resources?\n",
    "- **Short:** APLers need not be convinced\n",
    "- **Balanced**\n",
    "\n",
    "Here we advocate for balanced code, as this is desirable in production."
   ]
  },
  {
   "cell_type": "markdown",
   "metadata": {
    "slideshow": {
     "slide_type": "slide"
    }
   },
   "source": [
    "## Fast APL\n",
    "- Analysis and profiling\n",
    "- Mitigating hotspots through \n",
    " - Implementing mechanical sympathy\n",
    " - Using special cased code (The Interpretive Advantage)\n",
    " - Compiling chunks\n",
    " - Outsourcing jobs\n",
    "- Algorithms and primitive complexity"
   ]
  },
  {
   "cell_type": "markdown",
   "metadata": {
    "slideshow": {
     "slide_type": "slide"
    }
   },
   "source": [
    "## Analysis and profiling"
   ]
  },
  {
   "cell_type": "markdown",
   "metadata": {
    "slideshow": {
     "slide_type": "slide"
    }
   },
   "source": [
    "### Rule `⎕IO`\n",
    "Do **not** optimise code which has **not** been measured as **slow** in realistic situations.\n",
    "\n",
    "Optimised code is often longer and much less readable."
   ]
  },
  {
   "cell_type": "markdown",
   "metadata": {
    "slideshow": {
     "slide_type": "slide"
    }
   },
   "source": [
    "`dfns.life`"
   ]
  },
  {
   "cell_type": "code",
   "execution_count": 1,
   "metadata": {
    "slideshow": {
     "slide_type": "slide"
    }
   },
   "outputs": [
    {
     "data": {
      "text/html": [
       "<span style=\"white-space:pre; font-family: monospace\">done\n",
       "    _⍸   \n",
       "___( ∘)&gt;  ∘○O( ⊃∨∧⌊○⊂ 2020-02-20 07:20:26 )\n",
       "\\ ≤_. )  \n",
       " `---´   \n",
       "\n",
       "\n",
       "Rebuilding user command cache... done\n",
       "</span>"
      ]
     },
     "execution_count": 1,
     "metadata": {
    "slideshow": {
     "slide_type": "slide"
    }
   },
     "output_type": "execute_result"
    }
   ],
   "source": [
    "R←¯2⌽¯1⊖5 7↑(3 3⍴⍳9)∊2 3 4 5 8\n",
    "lifeNested←{↑1 ⍵∨.∧3 4=+/,¯1 0 1∘.⌽¯1 0 1∘.⊖⊂⍵}\n",
    "lifeFlat←{(3=c)∨⍵∧4=c←+⌿,[1 2]¯1 0 1⊖⍤0 99⍤99 2⊢¯1 0 1⌽⍤0 99⊢⍵}"
   ]
  },
  {
   "cell_type": "markdown",
   "metadata": {
    "slideshow": {
     "slide_type": "slide"
    }
   },
   "source": [
    "### Code analysis tools\n",
    "```APL\n",
    "⎕PROFILE   ]Profile\n",
    "dfns.cmpx  ]Runtime\n",
    "```"
   ]
  },
  {
   "cell_type": "code",
   "execution_count": 2,
   "metadata": {
    "slideshow": {
     "slide_type": "slide"
    }
   },
   "outputs": [
    {
     "data": {
      "text/html": [
       "<span style=\"white-space:pre; font-family: monospace\">                                                                        \n",
       "  lifeNested R → 1.5E¯5 |   0% ⎕⎕⎕⎕⎕⎕⎕⎕⎕⎕⎕⎕⎕⎕⎕⎕⎕⎕⎕⎕⎕⎕⎕⎕⎕⎕⎕⎕⎕⎕⎕⎕⎕⎕⎕⎕⎕⎕⎕⎕ \n",
       "  lifeFlat R   → 1.1E¯5 | -23% ⎕⎕⎕⎕⎕⎕⎕⎕⎕⎕⎕⎕⎕⎕⎕⎕⎕⎕⎕⎕⎕⎕⎕⎕⎕⎕⎕⎕⎕⎕⎕          \n",
       "</span>"
      ]
     },
     "execution_count": 2,
     "metadata": {
    "slideshow": {
     "slide_type": "slide"
    }
   },
     "output_type": "execute_result"
    }
   ],
   "source": [
    "]runtime -c \"lifeNested R\" \"lifeFlat R\""
   ]
  },
  {
   "cell_type": "markdown",
   "metadata": {
    "slideshow": {
     "slide_type": "slide"
    }
   },
   "source": [
    "$${(\\sum_{n=1}^{N}A_n})\\div{N}$$\n",
    "$$\\sum_{n=1}^{N}({A_n}\\div{N})$$"
   ]
  },
  {
   "cell_type": "code",
   "execution_count": 3,
   "metadata": {
    "slideshow": {
     "slide_type": "slide"
    }
   },
   "outputs": [],
   "source": [
    "]dinput\n",
    "avg1←{\n",
    "  c←≢⍵    ⍝ Count elements \n",
    "  n←⍵÷c   ⍝ Array divided by count\n",
    "  +⌿n     ⍝ Sum\n",
    "}"
   ]
  },
  {
   "cell_type": "code",
   "execution_count": 4,
   "metadata": {
    "slideshow": {
     "slide_type": "slide"
    }
   },
   "outputs": [],
   "source": [
    "]dinput\n",
    "avg2←{\n",
    "  c←≢⍵    ⍝ Count elements\n",
    "  s←+⌿⍵   ⍝ Sum elements \n",
    "  s÷c     ⍝ Sum divided by count\n",
    "}"
   ]
  },
  {
   "cell_type": "code",
   "execution_count": 5,
   "metadata": {
    "slideshow": {
     "slide_type": "slide"
    }
   },
   "outputs": [
    {
     "data": {
      "text/html": [
       "<span style=\"white-space:pre; font-family: monospace\">/opt/mdyalog/17.1/64/unicode/ws/dfns.dws saved Tue Nov 12 00:26:19 2019\n",
       "</span>"
      ]
     },
     "execution_count": 5,
     "metadata": {
    "slideshow": {
     "slide_type": "slide"
    }
   },
     "output_type": "execute_result"
    },
    {
     "data": {
      "text/html": [
       "<span style=\"white-space:pre; font-family: monospace\">  avg1 n → 4.2E¯6 |   0% ⎕⎕⎕⎕⎕⎕⎕⎕⎕⎕⎕⎕⎕⎕⎕⎕⎕⎕⎕⎕⎕⎕⎕⎕⎕⎕⎕⎕⎕⎕⎕⎕⎕⎕⎕⎕⎕⎕⎕⎕\n",
       "  avg2 n → 2.3E¯6 | -47% ⎕⎕⎕⎕⎕⎕⎕⎕⎕⎕⎕⎕⎕⎕⎕⎕⎕⎕⎕⎕⎕                   \n",
       "</span>"
      ]
     },
     "execution_count": 5,
     "metadata": {
    "slideshow": {
     "slide_type": "slide"
    }
   },
     "output_type": "execute_result"
    }
   ],
   "source": [
    ")copy dfns cmpx\n",
    "n←?⍨1000\n",
    "cmpx 'avg1 n' 'avg2 n'"
   ]
  },
  {
   "cell_type": "code",
   "execution_count": 6,
   "metadata": {
    "slideshow": {
     "slide_type": "slide"
    }
   },
   "outputs": [
    {
     "data": {
      "text/html": [
       "<span style=\"white-space:pre; font-family: monospace\">───────────────────────────────────────────────────────────────────────────────\n",
       "                                                                               \n",
       "]PERFORMANCE.RunTime                                                           \n",
       "                                                                               \n",
       "Report execution time of one or more expressions                               \n",
       "    ]RunTime [&lt;expression&gt; [&lt;expression&gt; ... [-compare]]]                      \n",
       "    [-details[=all|non|ai]] [-repeat=&lt;limit&gt;]                                  \n",
       "                                                                               \n",
       "]RunTime -??  ⍝ for more information                                           \n",
       "]RunTime -??? ⍝ for examples                                                   \n",
       "                                                                               \n",
       "</span>"
      ]
     },
     "execution_count": 6,
     "metadata": {
    "slideshow": {
     "slide_type": "slide"
    }
   },
     "output_type": "execute_result"
    }
   ],
   "source": [
    "]runtime -?"
   ]
  },
  {
   "cell_type": "code",
   "execution_count": 7,
   "metadata": {
    "slideshow": {
     "slide_type": "slide"
    }
   },
   "outputs": [
    {
     "data": {
      "text/html": [
       "<span style=\"white-space:pre; font-family: monospace\">500.5\n",
       "</span>"
      ]
     },
     "execution_count": 7,
     "metadata": {
    "slideshow": {
     "slide_type": "slide"
    }
   },
     "output_type": "execute_result"
    },
    {
     "data": {
      "text/html": [
       "<span style=\"white-space:pre; font-family: monospace\"> Total time: 0.6 msec                          \n",
       "                                               \n",
       "  Element                 msec       %  Calls  \n",
       "  ⎕SE.Dyalog.Out.Filter    1.2   220.4      6  \n",
       "  ⎕SE.Dyalog.Out.Box       0.1    20.6      5  \n",
       "  #.avg1                   0.0     3.4      1  \n",
       "</span>"
      ]
     },
     "execution_count": 7,
     "metadata": {
    "slideshow": {
     "slide_type": "slide"
    }
   },
     "output_type": "execute_result"
    }
   ],
   "source": [
    "⎕PROFILE 'start'\n",
    "avg1 n\n",
    "⎕PROFILE 'stop'\n",
    "]Profile"
   ]
  },
  {
   "cell_type": "code",
   "execution_count": 8,
   "metadata": {
    "slideshow": {
     "slide_type": "slide"
    }
   },
   "outputs": [],
   "source": [
    "repeat←1e4\n",
    "_Profile←{⍺←1 ⋄ _←⎕PROFILE'clear' ⋄ _←⎕PROFILE 'start' ⋄ r←⍺⍺¨⍺⍴⊂⍵ ⋄ _←⎕PROFILE 'stop'}"
   ]
  },
  {
   "cell_type": "code",
   "execution_count": 9,
   "metadata": {
    "slideshow": {
     "slide_type": "slide"
    }
   },
   "outputs": [
    {
     "data": {
      "text/html": [
       "<span style=\"white-space:pre; font-family: monospace\">     ∇ avg1←{                              \n",
       "[1]        c←≢⍵    ⍝ Count elements        \n",
       "[2]        n←⍵÷c   ⍝ Array divided by count\n",
       "[3]        +⌿n     ⍝ Sum                   \n",
       "[4]    }                                   \n",
       "     ∇                                     \n",
       "</span>"
      ]
     },
     "execution_count": 9,
     "metadata": {
    "slideshow": {
     "slide_type": "slide"
    }
   },
     "output_type": "execute_result"
    },
    {
     "data": {
      "text/html": [
       "<span style=\"white-space:pre; font-family: monospace\"> Total time: 50.3 msec              \n",
       "                                    \n",
       "  Element      msec      %   Calls  \n",
       "  #.avg1[2]    21.4   42.5   10000  \n",
       "  #.avg1[3]    19.7   39.1   10000  \n",
       "  #.avg1[1]     5.8   11.5   10000  \n",
       "  #.avg1[0]     2.2    4.3   10000  \n",
       "</span>"
      ]
     },
     "execution_count": 9,
     "metadata": {
    "slideshow": {
     "slide_type": "slide"
    }
   },
     "output_type": "execute_result"
    }
   ],
   "source": [
    "repeat avg1 _Profile n\n",
    "⎕VR'avg1'\n",
    "]profile -lines"
   ]
  },
  {
   "cell_type": "code",
   "execution_count": 10,
   "metadata": {
    "slideshow": {
     "slide_type": "slide"
    }
   },
   "outputs": [
    {
     "data": {
      "text/html": [
       "<span style=\"white-space:pre; font-family: monospace\">     ∇ avg2←{                            \n",
       "[1]        c←≢⍵    ⍝ Count elements      \n",
       "[2]        s←+⌿⍵   ⍝ Sum elements        \n",
       "[3]        s÷c     ⍝ Sum divided by count\n",
       "[4]    }                                 \n",
       "     ∇                                   \n",
       "</span>"
      ]
     },
     "execution_count": 10,
     "metadata": {
    "slideshow": {
     "slide_type": "slide"
    }
   },
     "output_type": "execute_result"
    },
    {
     "data": {
      "text/html": [
       "<span style=\"white-space:pre; font-family: monospace\"> Total time: 33.0 msec              \n",
       "                                    \n",
       "  Element      msec      %   Calls  \n",
       "  #.avg2[2]    14.9   45.0   10000  \n",
       "  #.avg2[1]     7.3   22.2   10000  \n",
       "  #.avg2[3]     5.1   15.4   10000  \n",
       "  #.avg2[0]     3.7   11.3   10000  \n",
       "</span>"
      ]
     },
     "execution_count": 10,
     "metadata": {
    "slideshow": {
     "slide_type": "slide"
    }
   },
     "output_type": "execute_result"
    }
   ],
   "source": [
    "repeat avg2 _Profile n\n",
    "⎕VR'avg2'\n",
    "]profile -lines"
   ]
  },
  {
   "cell_type": "markdown",
   "metadata": {
    "slideshow": {
     "slide_type": "slide"
    }
   },
   "source": [
    "## Mechanical Sympathy\n",
    "[Dyalog '18: Rectangles All The Way Down](https://www.youtube.com/watch?v=mK2WUDIY4hk)"
   ]
  },
  {
   "cell_type": "markdown",
   "metadata": {
    "slideshow": {
     "slide_type": "slide"
    }
   },
   "source": [
    "Relatively easy gains"
   ]
  },
  {
   "cell_type": "markdown",
   "metadata": {
    "slideshow": {
     "slide_type": "slide"
    }
   },
   "source": [
    "Avoid nested arrays or mixed-type arrays"
   ]
  },
  {
   "cell_type": "code",
   "execution_count": 11,
   "metadata": {
    "slideshow": {
     "slide_type": "slide"
    }
   },
   "outputs": [
    {
     "data": {
      "text/html": [
       "<span style=\"white-space:pre; font-family: monospace\">ABCD\n",
       "EFGH\n",
       "IJKL\n",
       "</span>"
      ]
     },
     "execution_count": 11,
     "metadata": {
    "slideshow": {
     "slide_type": "slide"
    }
   },
     "output_type": "execute_result"
    }
   ],
   "source": [
    "3 4⍴⎕A ⍝ (3 4)(A B C D E F G H I J K L)"
   ]
  },
  {
   "cell_type": "code",
   "execution_count": 12,
   "metadata": {
    "slideshow": {
     "slide_type": "slide"
    }
   },
   "outputs": [
    {
     "data": {
      "text/html": [
       "<span style=\"white-space:pre; font-family: monospace\">┌───┬─────┬────────────────┐\n",
       "│1 2│abcde│┌────┬────┬────┐│\n",
       "│3 4│     ││word│word│word││\n",
       "│   │     │├────┼────┼────┤│\n",
       "│   │     ││word│word│word││\n",
       "│   │     │└────┴────┴────┘│\n",
       "├───┼─────┼────────────────┤\n",
       "│1  │2    │3               │\n",
       "└───┴─────┴────────────────┘\n",
       "</span>"
      ]
     },
     "execution_count": 12,
     "metadata": {
    "slideshow": {
     "slide_type": "slide"
    }
   },
     "output_type": "execute_result"
    }
   ],
   "source": [
    "⍝ (2 3)(p0 p1 p2 p3 p4 p5)\n",
    "⍝ p → (2 2)(1 2 3 4)\n",
    "⍝ p → (5)(a b c d e)\n",
    "⍝ p → (2 3)(word)\n",
    "⍝ p → ()(1)\n",
    "⍝ p → ()(2)\n",
    "⍝ p → ()(3)\n",
    "2 3⍴(2 2⍴⍳4)'abcde'(2 3⍴⊂'word')1 2 3"
   ]
  },
  {
   "cell_type": "code",
   "execution_count": 13,
   "metadata": {
    "slideshow": {
     "slide_type": "slide"
    }
   },
   "outputs": [
    {
     "data": {
      "text/html": [
       "<span style=\"white-space:pre; font-family: monospace\">┌──────┬─────┬─────┬─────┬─────┐\n",
       "│7 8 10│3 6 8│7 1 5│2 4 4│9 4 1│\n",
       "└──────┴─────┴─────┴─────┴─────┘\n",
       "</span>"
      ]
     },
     "execution_count": 13,
     "metadata": {
    "slideshow": {
     "slide_type": "slide"
    }
   },
     "output_type": "execute_result"
    },
    {
     "data": {
      "text/html": [
       "<span style=\"white-space:pre; font-family: monospace\">7 8 10\n",
       "3 6  8\n",
       "7 1  5\n",
       "2 4  4\n",
       "9 4  1\n",
       "</span>"
      ]
     },
     "execution_count": 13,
     "metadata": {
    "slideshow": {
     "slide_type": "slide"
    }
   },
     "output_type": "execute_result"
    }
   ],
   "source": [
    "⎕←5↑posNest←?500⍴⊂3⍴10\n",
    "⎕←5↑posFlat←↑posNest"
   ]
  },
  {
   "cell_type": "code",
   "execution_count": 14,
   "metadata": {
    "slideshow": {
     "slide_type": "slide"
    }
   },
   "outputs": [
    {
     "data": {
      "text/html": [
       "<span style=\"white-space:pre; font-family: monospace\">                                                                               \n",
       "  0.5*⍨+/¨2*⍨∘.-⍨posNest     → 1.2E¯1 |   0% ⎕⎕⎕⎕⎕⎕⎕⎕⎕⎕⎕⎕⎕⎕⎕⎕⎕⎕⎕⎕⎕⎕⎕⎕⎕⎕⎕⎕⎕⎕⎕⎕⎕⎕\n",
       "  0.5*⍨+/2*⍨-⍤1⍤1 99⍨posFlat → 7.8E¯3 | -94% ⎕⎕⎕                               \n",
       "\n",
       "             \n",
       "      ⎕⎕⎕⎕⎕⎕ \n",
       "             \n",
       "</span>"
      ]
     },
     "execution_count": 14,
     "metadata": {
    "slideshow": {
     "slide_type": "slide"
    }
   },
     "output_type": "execute_result"
    }
   ],
   "source": [
    "]runtime -c \"0.5*⍨+/¨2*⍨∘.-⍨posNest\" \"0.5*⍨+/2*⍨-⍤1⍤1 99⍨posFlat\""
   ]
  },
  {
   "cell_type": "markdown",
   "metadata": {
    "slideshow": {
     "slide_type": "slide"
    }
   },
   "source": [
    "Use inverted tables: [Dyalog '18: Inverted Tables]()"
   ]
  },
  {
   "cell_type": "code",
   "execution_count": 15,
   "metadata": {
    "slideshow": {
     "slide_type": "slide"
    }
   },
   "outputs": [
    {
     "data": {
      "text/html": [
       "<span style=\"white-space:pre; font-family: monospace\">┌─────┬───────────────┬───────────┐\n",
       "│cats │412 418 520 136│selfish    │\n",
       "│dogs │               │loyal      │\n",
       "│ducks│               │mischievous│\n",
       "│goats│               │baa        │\n",
       "└─────┴───────────────┴───────────┘\n",
       "</span>"
      ]
     },
     "execution_count": 15,
     "metadata": {
    "slideshow": {
     "slide_type": "slide"
    }
   },
     "output_type": "execute_result"
    }
   ],
   "source": [
    "⎕←creatures←(↑'cats' 'dogs' 'ducks' 'goats')(412 418 520 136)(↑'selfish' 'loyal' 'mischievous' 'baa')"
   ]
  },
  {
   "cell_type": "code",
   "execution_count": 16,
   "metadata": {
    "slideshow": {
     "slide_type": "slide"
    }
   },
   "outputs": [
    {
     "data": {
      "text/html": [
       "<span style=\"white-space:pre; font-family: monospace\">┌─────┬───────┬───────────┐\n",
       "│dogs │418 136│loyal      │\n",
       "│goats│       │baa        │\n",
       "└─────┴───────┴───────────┘\n",
       "</span>"
      ]
     },
     "execution_count": 16,
     "metadata": {
    "slideshow": {
     "slide_type": "slide"
    }
   },
     "output_type": "execute_result"
    }
   ],
   "source": [
    "⎕←good←(↑'dogs' 'goats')(418 136)(2 11⍴'loyal      baa        ')"
   ]
  },
  {
   "cell_type": "code",
   "execution_count": 17,
   "metadata": {
    "slideshow": {
     "slide_type": "slide"
    }
   },
   "outputs": [],
   "source": [
    "IIX ← 8⌶ ⍝(Inverted-table IndeX of)\n",
    "unvert←{⍉↑⊂⍤¯1¨⍵}"
   ]
  },
  {
   "cell_type": "code",
   "execution_count": 18,
   "metadata": {
    "slideshow": {
     "slide_type": "slide"
    }
   },
   "outputs": [
    {
     "data": {
      "text/html": [
       "<span style=\"white-space:pre; font-family: monospace\">┌─────┬───┬───────────┐\n",
       "│cats │412│selfish    │\n",
       "├─────┼───┼───────────┤\n",
       "│dogs │418│loyal      │\n",
       "├─────┼───┼───────────┤\n",
       "│ducks│520│mischievous│\n",
       "├─────┼───┼───────────┤\n",
       "│goats│136│baa        │\n",
       "└─────┴───┴───────────┘\n",
       "</span>"
      ]
     },
     "execution_count": 18,
     "metadata": {
    "slideshow": {
     "slide_type": "slide"
    }
   },
     "output_type": "execute_result"
    }
   ],
   "source": [
    "unvert creatures"
   ]
  },
  {
   "cell_type": "code",
   "execution_count": 19,
   "metadata": {
    "slideshow": {
     "slide_type": "slide"
    }
   },
   "outputs": [
    {
     "data": {
      "text/html": [
       "<span style=\"white-space:pre; font-family: monospace\">                                                                               \n",
       "  (unvert creatures)⍳ unvert good → 7.3E¯6 |   0% ⎕⎕⎕⎕⎕⎕⎕⎕⎕⎕⎕⎕⎕⎕⎕⎕⎕⎕⎕⎕⎕⎕⎕⎕⎕⎕⎕⎕⎕\n",
       "  creatures (8⌶) good             → 8.7E¯7 | -89% ⎕⎕⎕⎕⎕                        \n",
       "\n",
       "                  \n",
       "      ⎕⎕⎕⎕⎕⎕⎕⎕⎕⎕⎕ \n",
       "                  \n",
       "</span>"
      ]
     },
     "execution_count": 19,
     "metadata": {
    "slideshow": {
     "slide_type": "slide"
    }
   },
     "output_type": "execute_result"
    }
   ],
   "source": [
    "]runtime -c \"(unvert creatures)⍳ unvert good\" \"creatures (8⌶) good\" "
   ]
  },
  {
   "cell_type": "markdown",
   "metadata": {
    "slideshow": {
     "slide_type": "slide"
    }
   },
   "source": [
    "Do work on large arrays where possible"
   ]
  },
  {
   "cell_type": "code",
   "execution_count": 20,
   "metadata": {
    "slideshow": {
     "slide_type": "slide"
    }
   },
   "outputs": [
    {
     "data": {
      "text/html": [
       "<span style=\"white-space:pre; font-family: monospace\">                                                                              \n",
       "  +/,{3&lt;+/,⍵}⌺3 3⊢b → 3.8E¯2 |    0% ⎕⎕⎕⎕⎕⎕⎕⎕⎕⎕⎕⎕⎕⎕⎕⎕⎕⎕⎕⎕⎕⎕⎕⎕⎕⎕⎕⎕⎕⎕⎕⎕⎕⎕⎕⎕⎕⎕⎕⎕ \n",
       "  +/,3&lt;{+/,⍵}⌺3 3⊢b → 3.1E¯5 | -100%                                          \n",
       "</span>"
      ]
     },
     "execution_count": 20,
     "metadata": {
    "slideshow": {
     "slide_type": "slide"
    }
   },
     "output_type": "execute_result"
    }
   ],
   "source": [
    "b←1=?100 100⍴2\n",
    "]runtime -c \"+/,{3<+/,⍵}⌺3 3⊢b\" \"+/,3<{+/,⍵}⌺3 3⊢b\""
   ]
  },
  {
   "cell_type": "markdown",
   "metadata": {
    "slideshow": {
     "slide_type": "slide"
    }
   },
   "source": [
    "## Using special cased code \n",
    "[Dyalog '18: The Interpretive Advantage](https://www.youtube.com/watch?v=-6no6N3i9Tg)"
   ]
  },
  {
   "cell_type": "code",
   "execution_count": 21,
   "metadata": {
    "slideshow": {
     "slide_type": "slide"
    }
   },
   "outputs": [
    {
     "data": {
      "text/html": [
       "<span style=\"white-space:pre; font-family: monospace\">                                                                   \n",
       "  {≢,⍵}⌸A → 1.9E¯4 |   0% ⎕⎕⎕⎕⎕⎕⎕⎕⎕⎕⎕⎕⎕⎕⎕⎕⎕⎕⎕⎕⎕⎕⎕⎕⎕⎕⎕⎕⎕⎕⎕⎕⎕⎕⎕⎕⎕⎕⎕⎕ \n",
       "  {≢⍵}⌸A  → 1.0E¯5 | -95% ⎕⎕                                       \n",
       "</span>"
      ]
     },
     "execution_count": 21,
     "metadata": {
    "slideshow": {
     "slide_type": "slide"
    }
   },
     "output_type": "execute_result"
    }
   ],
   "source": [
    "A←?1e4⍴1e2\n",
    "]runtime -c \"{≢,⍵}⌸A\" \"{≢⍵}⌸A\""
   ]
  },
  {
   "cell_type": "markdown",
   "metadata": {
    "slideshow": {
     "slide_type": "slide"
    }
   },
   "source": [
    "[Dyalog idioms](https://help.dyalog.com/latest/index.htm#Language/Defined%20Functions%20and%20Operators/Idiom%20Recognition/Idiom%20List.htm)\n",
    "\n",
    "Search: *dyalog help idiom list*"
   ]
  },
  {
   "cell_type": "code",
   "execution_count": 22,
   "metadata": {
    "slideshow": {
     "slide_type": "slide"
    }
   },
   "outputs": [
    {
     "data": {
      "text/html": [
       "<span style=\"white-space:pre; font-family: monospace\">                                                                      \n",
       "  {⍵⌷⍨⊂⍋⍵}A  → 2.6E¯5 |   0% ⎕⎕⎕⎕⎕⎕⎕⎕⎕⎕⎕⎕⎕⎕⎕⎕⎕⎕⎕⎕⎕⎕⎕⎕⎕⎕⎕⎕⎕⎕⎕⎕⎕⎕⎕⎕⎕⎕⎕⎕ \n",
       "  {(⊂⍋⍵)⌷⍵}A → 9.2E¯6 | -66% ⎕⎕⎕⎕⎕⎕⎕⎕⎕⎕⎕⎕⎕⎕                           \n",
       "</span>"
      ]
     },
     "execution_count": 22,
     "metadata": {
    "slideshow": {
     "slide_type": "slide"
    }
   },
     "output_type": "execute_result"
    }
   ],
   "source": [
    "⍝ Sorting idioms\n",
    "]runtime -c \"{⍵⌷⍨⊂⍋⍵}A\" \"{(⊂⍋⍵)⌷⍵}A\""
   ]
  },
  {
   "cell_type": "markdown",
   "metadata": {
    "slideshow": {
     "slide_type": "slide"
    }
   },
   "source": [
    "## Algorithms and Primitive Complexity\n",
    "Hsu, A.W., 2019. A data parallel compiler hosted on the GPU.\n",
    "\n",
    "APL makes it easy to reason about algorithms."
   ]
  },
  {
   "cell_type": "code",
   "execution_count": 23,
   "metadata": {
    "slideshow": {
     "slide_type": "slide"
    }
   },
   "outputs": [
    {
     "data": {
      "text/html": [
       "<span style=\"white-space:pre; font-family: monospace\">/opt/mdyalog/17.1/64/unicode/ws/dfns.dws saved Tue Nov 12 00:26:19 2019\n",
       "</span>"
      ]
     },
     "execution_count": 23,
     "metadata": {
    "slideshow": {
     "slide_type": "slide"
    }
   },
     "output_type": "execute_result"
    }
   ],
   "source": [
    "PT0←PrimesTil←{⍸2=+⌿0=∘.|⍨⍳⍵}   ⍝ Primes from 1 to ⍵ using Modulo and Reduction\n",
    "PT1←(⊢~∘.×⍨)1↓⍳                 ⍝ Without Products                             \n",
    ")copy dfns sieve pco                                                           \n",
    "PT2←sieve 1↓⍳                   ⍝ Sieve of Eratosthenes                        \n",
    "PT3←⍸10 pco 1,⊢                 ⍝ dfns.pco (lookup table) "
   ]
  },
  {
   "cell_type": "code",
   "execution_count": 32,
   "metadata": {
    "slideshow": {
     "slide_type": "slide"
    }
   },
   "outputs": [
    {
     "data": {
      "text/html": [
       "<span style=\"white-space:pre; font-family: monospace\">     ∇ sieve←{             ⍝ Sieve of Eratosthenes.       \n",
       "[1]        ⍺←⍬             ⍝ Default no primes yet.       \n",
       "[2]        nxt←1↑⍵         ⍝ Next prime, and              \n",
       "[3]        msk←0≠nxt|⍵     ⍝ ... mask of non-multiples.   \n",
       "[4]        ∧/1↓msk:⍺,⍵     ⍝ All non multiples - finished.\n",
       "[5]        (⍺,nxt)∇ msk/⍵  ⍝ Sieve remainder.             \n",
       "[6]    }                                                  \n",
       "     ∇                                                    \n",
       "</span>"
      ]
     },
     "execution_count": 32,
     "metadata": {
    "slideshow": {
     "slide_type": "slide"
    }
   },
     "output_type": "execute_result"
    }
   ],
   "source": [
    "⎕VR'sieve'"
   ]
  },
  {
   "cell_type": "code",
   "execution_count": 24,
   "metadata": {
    "slideshow": {
     "slide_type": "slide"
    }
   },
   "outputs": [],
   "source": [
    "_Time←{⍎0 0 0 0.2 cmpx ⍺⍺,' ',⍕⍵}"
   ]
  },
  {
   "cell_type": "code",
   "execution_count": 25,
   "metadata": {
    "slideshow": {
     "slide_type": "slide"
    }
   },
   "outputs": [
    {
     "data": {
      "text/html": [
       "<span style=\"white-space:pre; font-family: monospace\">3 5 6 7 10 12 15 19 25 31 39 50 63 79 100\n",
       "</span>"
      ]
     },
     "execution_count": 25,
     "metadata": {
    "slideshow": {
     "slide_type": "slide"
    }
   },
     "output_type": "execute_result"
    }
   ],
   "source": [
    "⊢n←5↓⌊10*0.1×⍳20"
   ]
  },
  {
   "cell_type": "code",
   "execution_count": 26,
   "metadata": {
    "slideshow": {
     "slide_type": "slide"
    }
   },
   "outputs": [
    {
     "data": {
      "text/html": [
       "<span style=\"white-space:pre; font-family: monospace\">/opt/mdyalog/17.1/64/unicode/ws/sharpplot.dws saved Tue Nov 12 00:23:00 2019\n",
       "</span>"
      ]
     },
     "execution_count": 26,
     "metadata": {
    "slideshow": {
     "slide_type": "slide"
    }
   },
     "output_type": "execute_result"
    }
   ],
   "source": [
    ")copy sharpplot"
   ]
  },
  {
   "cell_type": "code",
   "execution_count": 27,
   "metadata": {
    "slideshow": {
     "slide_type": "slide"
    }
   },
   "outputs": [],
   "source": [
    "∇ {key}Plot data;d;n;s\n",
    " :If 0=⎕NC'key'\n",
    "     key←''\n",
    " :EndIf\n",
    " s←⎕NEW SharpPlot\n",
    " n←⊃data\n",
    " :For d :In ⊆⊃⌽data\n",
    "     s.DrawLineGraph d n\n",
    " :EndFor\n",
    " s.SetKeyText key\n",
    " View s\n",
    "∇ "
   ]
  },
  {
   "cell_type": "code",
   "execution_count": 28,
   "metadata": {
    "collapsed": true,
    "jupyter": {
     "outputs_hidden": true
    }
   },
   "outputs": [
    {
     "data": {
      "text/html": [
       "<svg version=\"1.1\" baseProfile=\"full\" width=\"100%\" height=\"100%\" viewBox=\"0 0 4320 3240\"  xmlns=\"http://www.w3.org/2000/svg\" xmlns:xlink=\"http://www.w3.org/1999/xlink\" xmlns:ev=\"http://www.w3.org/2001/xml-events\" >\n",
       "<desc>Created by Causeway SVG engine - SharpPlot v3.62.2</desc>\n",
       "<g stroke-miterlimit=\"100\">\n",
       "<desc>Paint the paper =====</desc>\n",
       " <g fill=\"White\" >\n",
       "  <rect x=\"0\" y=\"0\" width=\"4320\" height=\"3240\" />\n",
       " </g>\n",
       "<desc>Border =====</desc>\n",
       "<desc>Region =====</desc>\n",
       "<desc>X-Axis Ticks =====</desc>\n",
       "<desc>X-Axis tickmarks</desc>\n",
       " <path fill=\"none\" stroke-width=\"7.2\" stroke=\"Black\" d=\"M400 2720L400 2764M770 2720L770 2764M1140 2720L1140 2764M1510 2720L1510 2764M1880 2720L1880 2764M2250 2720L2250 2764M2620 2720L2620 2764M2990 2720L2990 2764M3360 2720L3360 2764M3730 2720L3730 2764M4100 2720L4100 2764\"/>\n",
       "<desc>Y-Axis Ticks =====</desc>\n",
       "<desc>Y-Axis tickmarks</desc>\n",
       " <path fill=\"none\" stroke-width=\"7.2\" stroke=\"Black\" d=\"M400 2720L367 2720M400 2438L367 2438M400 2155L367 2155M400 1873L367 1873M400 1590L367 1590M400 1308L367 1308M400 1025L367 1025M400 743L367 743M400 460L367 460\"/>\n",
       "<desc>Axes =====</desc>\n",
       " <path fill=\"none\" stroke-width=\"12\" stroke=\"Black\" d=\"M400 2764L400 416M356 2720L4144 2720\"/>\n",
       "<desc>Y-axis labels</desc>\n",
       " <g font-family=\"Times New Roman\" font-size=\"80\" text-anchor=\"end\" >\n",
       "  <text x=\"335\" y=\"2740\" >0</text>\n",
       "  <text x=\"335\" y=\"2458\" >0.000005</text>\n",
       "  <text x=\"335\" y=\"2175\" >0.00001</text>\n",
       "  <text x=\"335\" y=\"1893\" >0.000015</text>\n",
       "  <text x=\"335\" y=\"1610\" >0.00002</text>\n",
       "  <text x=\"335\" y=\"1328\" >0.000025</text>\n",
       "  <text x=\"335\" y=\"1045\" >0.00003</text>\n",
       "  <text x=\"335\" y=\"763\" >0.000035</text>\n",
       "  <text x=\"335\" y=\"480\" >0.00004</text>\n",
       " </g>\n",
       "<desc>for X-axis labels</desc>\n",
       " <g font-family=\"Times New Roman\" font-size=\"80\" text-anchor=\"middle\" >\n",
       "  <text x=\"400\" y=\"2844\" >0</text>\n",
       "  <text x=\"770\" y=\"2844\" >10</text>\n",
       "  <text x=\"1140\" y=\"2844\" >20</text>\n",
       "  <text x=\"1510\" y=\"2844\" >30</text>\n",
       "  <text x=\"1880\" y=\"2844\" >40</text>\n",
       "  <text x=\"2250\" y=\"2844\" >50</text>\n",
       "  <text x=\"2620\" y=\"2844\" >60</text>\n",
       "  <text x=\"2990\" y=\"2844\" >70</text>\n",
       "  <text x=\"3360\" y=\"2844\" >80</text>\n",
       "  <text x=\"3730\" y=\"2844\" >90</text>\n",
       "  <text x=\"4100\" y=\"2844\" >100</text>\n",
       " </g>\n",
       "<desc>Heading, subheading and footnotes =====</desc>\n",
       "<desc>Start of Line Chart ===========</desc>\n",
       "<desc>Points follow ...</desc>\n",
       "<desc>Line</desc>\n",
       " <g stroke-width=\"3\" stroke=\"Navy\" stroke-linejoin=\"round\" stroke-linecap=\"round\" fill=\"none\" >\n",
       "  <path d=\"M4100 686L3323 856 2731 1816 2250 2099 1843 2302 1547 2404 1325 2460 1103 2517 955 2534 844 2567 770 2562 659 2579 622 2584 585 2584 511 2584\" />\n",
       " </g>\n",
       "<desc>Start of Line Chart ===========</desc>\n",
       "<desc>Points follow ...</desc>\n",
       "<desc>Line</desc>\n",
       " <g stroke-width=\"3\" stroke=\"Maroon\" stroke-linejoin=\"round\" stroke-linecap=\"round\" stroke-dasharray=\"9 12\" fill=\"none\" >\n",
       "  <path d=\"M4100 1534L3323 1929 2731 2155 2250 2302 1843 2398 1547 2477 1325 2522 1103 2562 955 2528 844 2590 770 2596 659 2607 622 2613 585 2601 511 2624\" />\n",
       " </g>\n",
       "<desc>Start of Line Chart ===========</desc>\n",
       "<desc>Points follow ...</desc>\n",
       "<desc>Line</desc>\n",
       " <g stroke-width=\"3\" stroke=\"Teal\" stroke-linejoin=\"round\" stroke-linecap=\"round\" stroke-dasharray=\"0.3 5.7\" fill=\"none\" >\n",
       "  <path d=\"M4100 1703L3323 1703 2731 1590 2250 1703 1843 1929 1547 1873 1325 1873 1103 2099 955 2099 844 2099 770 2099 659 2262 622 2279 585 2291 511 2488\" />\n",
       " </g>\n",
       "<desc>Start of Line Chart ===========</desc>\n",
       "<desc>Points follow ...</desc>\n",
       "<desc>Clipped Line</desc>\n",
       " <g stroke-width=\"3\" stroke=\"Green\" stroke-linejoin=\"round\" stroke-linecap=\"round\" stroke-dasharray=\"9 6.45 0.3 6.45\" fill=\"none\" >\n",
       "  <path d=\"M3191 40L2731 347 2250 291 1843 573 1547 686 1325 686 1103 573 955 686 844 573 770 460 659 404 622 404 585 404 511 630M4100 178L3627 40\" />\n",
       " </g>\n",
       "<desc>Key =====</desc>\n",
       "<desc>Key - Line</desc>\n",
       " <g stroke-width=\"3\" stroke=\"Navy\" fill=\"none\" >\n",
       "  <path d=\"M643 3005L490 3005\" />\n",
       " </g>\n",
       "<desc>Key - Line</desc>\n",
       " <g stroke-width=\"3\" stroke=\"Maroon\" stroke-linecap=\"round\" stroke-dasharray=\"9 12\" fill=\"none\" >\n",
       "  <path d=\"M1569 3005L1416 3005\" />\n",
       " </g>\n",
       "<desc>Key - Line</desc>\n",
       " <g stroke-width=\"3\" stroke=\"Teal\" stroke-linecap=\"round\" stroke-dasharray=\"0.3 5.7\" fill=\"none\" >\n",
       "  <path d=\"M2476 3005L2323 3005\" />\n",
       " </g>\n",
       "<desc>Key - Line</desc>\n",
       " <g stroke-width=\"3\" stroke=\"Green\" stroke-linecap=\"round\" stroke-dasharray=\"9 6.45 0.3 6.45\" fill=\"none\" >\n",
       "  <path d=\"M2955 3005L2802 3005\" />\n",
       " </g>\n",
       " <g fill=\"Navy\" font-family=\"Times New Roman\" font-size=\"90\" >\n",
       "  <text x=\"688\" y=\"3032\" >Modulo reduction</text>\n",
       " </g>\n",
       " <g fill=\"Navy\" font-family=\"Times New Roman\" font-size=\"90\" >\n",
       "  <text x=\"1614\" y=\"3032\" >Without products</text>\n",
       " </g>\n",
       " <g fill=\"Navy\" font-family=\"Times New Roman\" font-size=\"90\" >\n",
       "  <text x=\"2521\" y=\"3032\" >Sieve</text>\n",
       " </g>\n",
       " <g fill=\"Navy\" font-family=\"Times New Roman\" font-size=\"90\" >\n",
       "  <text x=\"3000\" y=\"3032\" >dfns.pco</text>\n",
       " </g>\n",
       "<desc>Reset to original origin</desc>\n",
       "</g>\n",
       "</svg>\n"
      ]
     },
     "execution_count": 28,
     "metadata": {
    "slideshow": {
     "slide_type": "slide"
    }
   },
     "output_type": "execute_result"
    }
   ],
   "source": [
    "'Modulo reduction' 'Without products' 'Sieve' 'dfns.pco' Plot n{⍺⍵}('PT0'_Time¨n)('PT1'_Time¨n)('PT2'_Time¨n)('PT3'_Time¨n)"
   ]
  },
  {
   "cell_type": "code",
   "execution_count": 31,
   "metadata": {
    "slideshow": {
     "slide_type": "slide"
    }
   },
   "outputs": [
    {
     "data": {
      "text/html": [
       "<span style=\"white-space:pre; font-family: monospace\">3 5 6 7 10 12 15 19 25 31 39 50 63 79 100 125 158\n",
       "</span>"
      ]
     },
     "execution_count": 31,
     "metadata": {
    "slideshow": {
     "slide_type": "slide"
    }
   },
     "output_type": "execute_result"
    },
    {
     "data": {
      "text/html": [
       "<svg version=\"1.1\" baseProfile=\"full\" width=\"100%\" height=\"100%\" viewBox=\"0 0 4320 3240\"  xmlns=\"http://www.w3.org/2000/svg\" xmlns:xlink=\"http://www.w3.org/1999/xlink\" xmlns:ev=\"http://www.w3.org/2001/xml-events\" >\n",
       "<desc>Created by Causeway SVG engine - SharpPlot v3.62.2</desc>\n",
       "<g stroke-miterlimit=\"100\">\n",
       "<desc>Paint the paper =====</desc>\n",
       " <g fill=\"White\" >\n",
       "  <rect x=\"0\" y=\"0\" width=\"4320\" height=\"3240\" />\n",
       " </g>\n",
       "<desc>Border =====</desc>\n",
       "<desc>Region =====</desc>\n",
       "<desc>X-Axis Ticks =====</desc>\n",
       "<desc>X-Axis tickmarks</desc>\n",
       " <path fill=\"none\" stroke-width=\"7.2\" stroke=\"Black\" d=\"M400 2720L400 2764M631 2720L631 2764M863 2720L863 2764M1094 2720L1094 2764M1325 2720L1325 2764M1556 2720L1556 2764M1788 2720L1788 2764M2019 2720L2019 2764M2250 2720L2250 2764M2481 2720L2481 2764M2713 2720L2713 2764M2944 2720L2944 2764M3175 2720L3175 2764M3406 2720L3406 2764M3638 2720L3638 2764M3869 2720L3869 2764M4100 2720L4100 2764\"/>\n",
       "<desc>Y-Axis Ticks =====</desc>\n",
       "<desc>Y-Axis tickmarks</desc>\n",
       " <path fill=\"none\" stroke-width=\"7.2\" stroke=\"Black\" d=\"M400 2720L367 2720M400 2469L367 2469M400 2218L367 2218M400 1967L367 1967M400 1716L367 1716M400 1464L367 1464M400 1213L367 1213M400 962L367 962M400 711L367 711M400 460L367 460\"/>\n",
       "<desc>Axes =====</desc>\n",
       " <path fill=\"none\" stroke-width=\"12\" stroke=\"Black\" d=\"M400 2764L400 416M356 2720L4144 2720\"/>\n",
       "<desc>Y-axis labels</desc>\n",
       " <g font-family=\"Times New Roman\" font-size=\"80\" text-anchor=\"end\" >\n",
       "  <text x=\"335\" y=\"2740\" >0</text>\n",
       "  <text x=\"335\" y=\"2489\" >0.00001</text>\n",
       "  <text x=\"335\" y=\"2238\" >0.00002</text>\n",
       "  <text x=\"335\" y=\"1987\" >0.00003</text>\n",
       "  <text x=\"335\" y=\"1736\" >0.00004</text>\n",
       "  <text x=\"335\" y=\"1484\" >0.00005</text>\n",
       "  <text x=\"335\" y=\"1233\" >0.00006</text>\n",
       "  <text x=\"335\" y=\"982\" >0.00007</text>\n",
       "  <text x=\"335\" y=\"731\" >0.00008</text>\n",
       "  <text x=\"335\" y=\"480\" >0.00009</text>\n",
       " </g>\n",
       "<desc>for X-axis labels</desc>\n",
       " <g font-family=\"Times New Roman\" font-size=\"80\" text-anchor=\"middle\" >\n",
       "  <text x=\"400\" y=\"2844\" >0</text>\n",
       "  <text x=\"631\" y=\"2844\" >10</text>\n",
       "  <text x=\"863\" y=\"2844\" >20</text>\n",
       "  <text x=\"1094\" y=\"2844\" >30</text>\n",
       "  <text x=\"1325\" y=\"2844\" >40</text>\n",
       "  <text x=\"1556\" y=\"2844\" >50</text>\n",
       "  <text x=\"1788\" y=\"2844\" >60</text>\n",
       "  <text x=\"2019\" y=\"2844\" >70</text>\n",
       "  <text x=\"2250\" y=\"2844\" >80</text>\n",
       "  <text x=\"2481\" y=\"2844\" >90</text>\n",
       "  <text x=\"2713\" y=\"2844\" >100</text>\n",
       "  <text x=\"2944\" y=\"2844\" >110</text>\n",
       "  <text x=\"3175\" y=\"2844\" >120</text>\n",
       "  <text x=\"3406\" y=\"2844\" >130</text>\n",
       "  <text x=\"3638\" y=\"2844\" >140</text>\n",
       "  <text x=\"3869\" y=\"2844\" >150</text>\n",
       "  <text x=\"4100\" y=\"2844\" >160</text>\n",
       " </g>\n",
       "<desc>Heading, subheading and footnotes =====</desc>\n",
       "<desc>Start of Line Chart ===========</desc>\n",
       "<desc>Points follow ...</desc>\n",
       "<desc>Line</desc>\n",
       " <g stroke-width=\"3\" stroke=\"Navy\" stroke-linejoin=\"round\" stroke-linecap=\"round\" fill=\"none\" >\n",
       "  <path d=\"M4054 460L3291 1364 2713 1816 2227 2142 1857 2318 1556 2444 1302 2537 1117 2552 978 2610 839 2632 747 2642 678 2652 631 2652 562 2657 539 2660 516 2660 469 2662\" />\n",
       " </g>\n",
       "<desc>Start of Line Chart ===========</desc>\n",
       "<desc>Points follow ...</desc>\n",
       "<desc>Clipped Line</desc>\n",
       " <g stroke-width=\"3\" stroke=\"Maroon\" stroke-linejoin=\"round\" stroke-linecap=\"round\" stroke-dasharray=\"9 12\" fill=\"none\" >\n",
       "  <path d=\"M3369 40L3291 2042 2713 2243 2227 2394 1857 2491 1556 2549 1302 2589 1117 2620 978 2635 839 2650 747 2657 678 2662 631 2667 562 2670 539 2672 516 2670 469 2675\" />\n",
       " </g>\n",
       "<desc>Start of Line Chart ===========</desc>\n",
       "<desc>Points follow ...</desc>\n",
       "<desc>Line</desc>\n",
       " <g stroke-width=\"3\" stroke=\"Teal\" stroke-linejoin=\"round\" stroke-linecap=\"round\" stroke-dasharray=\"0.3 5.7\" fill=\"none\" >\n",
       "  <path d=\"M4054 2142L3291 2168 2713 2243 2227 2243 1857 2243 1556 2268 1302 2343 1117 2343 978 2343 839 2444 747 2419 678 2419 631 2444 562 2524 539 2522 516 2529 469 2617\" />\n",
       " </g>\n",
       "<desc>Start of Line Chart ===========</desc>\n",
       "<desc>Points follow ...</desc>\n",
       "<desc>Line</desc>\n",
       " <g stroke-width=\"3\" stroke=\"Green\" stroke-linejoin=\"round\" stroke-linecap=\"round\" stroke-dasharray=\"9 6.45 0.3 6.45\" fill=\"none\" >\n",
       "  <path d=\"M4054 1414L3291 1414 2713 1565 2227 1464 1857 1665 1556 1665 1302 1791 1117 1791 978 1816 839 1816 747 1615 678 1816 631 1816 562 1791 539 1741 516 1816 469 1791\" />\n",
       " </g>\n",
       "<desc>Key =====</desc>\n",
       "<desc>Key - Line</desc>\n",
       " <g stroke-width=\"3\" stroke=\"Navy\" fill=\"none\" >\n",
       "  <path d=\"M643 3005L490 3005\" />\n",
       " </g>\n",
       "<desc>Key - Line</desc>\n",
       " <g stroke-width=\"3\" stroke=\"Maroon\" stroke-linecap=\"round\" stroke-dasharray=\"9 12\" fill=\"none\" >\n",
       "  <path d=\"M1569 3005L1416 3005\" />\n",
       " </g>\n",
       "<desc>Key - Line</desc>\n",
       " <g stroke-width=\"3\" stroke=\"Teal\" stroke-linecap=\"round\" stroke-dasharray=\"0.3 5.7\" fill=\"none\" >\n",
       "  <path d=\"M2476 3005L2323 3005\" />\n",
       " </g>\n",
       "<desc>Key - Line</desc>\n",
       " <g stroke-width=\"3\" stroke=\"Green\" stroke-linecap=\"round\" stroke-dasharray=\"9 6.45 0.3 6.45\" fill=\"none\" >\n",
       "  <path d=\"M2955 3005L2802 3005\" />\n",
       " </g>\n",
       " <g fill=\"Navy\" font-family=\"Times New Roman\" font-size=\"90\" >\n",
       "  <text x=\"688\" y=\"3032\" >Modulo reduction</text>\n",
       " </g>\n",
       " <g fill=\"Navy\" font-family=\"Times New Roman\" font-size=\"90\" >\n",
       "  <text x=\"1614\" y=\"3032\" >Without products</text>\n",
       " </g>\n",
       " <g fill=\"Navy\" font-family=\"Times New Roman\" font-size=\"90\" >\n",
       "  <text x=\"2521\" y=\"3032\" >Sieve</text>\n",
       " </g>\n",
       " <g fill=\"Navy\" font-family=\"Times New Roman\" font-size=\"90\" >\n",
       "  <text x=\"3000\" y=\"3032\" >dfns.pco</text>\n",
       " </g>\n",
       "<desc>Reset to original origin</desc>\n",
       "</g>\n",
       "</svg>\n"
      ]
     },
     "execution_count": 31,
     "metadata": {
    "slideshow": {
     "slide_type": "slide"
    }
   },
     "output_type": "execute_result"
    }
   ],
   "source": [
    "⊢n←5↓⌊10*0.1×⍳22\n",
    "'Modulo reduction' 'Without products' 'Sieve' 'dfns.pco' Plot n{⍺⍵}('PT0'_Time¨n)('PT1'_Time¨n)('PT2'_Time¨n)('PT3'_Time¨n)"
   ]
  },
  {
   "cell_type": "markdown",
   "metadata": {
    "slideshow": {
     "slide_type": "slide"
    }
   },
   "source": [
    "## Compilation\n",
    "- [Co-dfns](https://github.com/Co-dfns/Co-dfns)\n",
    "- [Jay's Dyalog Compiler](http://docs.dyalog.com/latest/Compiler%20User%20Guide.pdf)\n",
    "- [APEX: The APL Parallel Executor](http://snakeisland.com/apexup.htm)"
   ]
  },
  {
   "cell_type": "markdown",
   "metadata": {
    "slideshow": {
     "slide_type": "slide"
    }
   },
   "source": [
    "## Next Webinar\n",
    "Thursday 19th March 16:00 UTC\n",
    "\n",
    "Progressive set functions\n",
    "\n",
    "Richard Park"
   ]
  }
 ],
 "metadata": {
  "kernelspec": {
   "display_name": "Dyalog APL",
   "language": "apl",
   "name": "dyalog-kernel"
  },
  "language_info": {
   "file_extension": ".apl",
   "mimetype": "text/apl",
   "name": "APL"
  }
 },
 "nbformat": 4,
 "nbformat_minor": 4
}
