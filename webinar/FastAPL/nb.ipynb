{
 "cells": [
  {
   "cell_type": "markdown",
   "metadata": {
    "slideshow": {
     "slide_type": "slide"
    }
   },
   "source": [
    "# Fast APL\n",
    "An overview of topics related to writing performant code and optimising existing code."
   ]
  },
  {
   "cell_type": "markdown",
   "metadata": {
    "slideshow": {
     "slide_type": "slide"
    }
   },
   "source": [
    "## Audience\n",
    "This discussion is aimed at users. \n",
    "\n",
    "[https://aplwiki.com/wiki/Performance](https://aplwiki.com/wiki/Performance) has links to media related to performant implementation."
   ]
  },
  {
   "cell_type": "markdown",
   "metadata": {
    "slideshow": {
     "slide_type": "slide"
    }
   },
   "source": [
    "## Goals for code\n",
    "In APL, the ability to express similar ideas (or even the exact same idea) in multiple ways is quite pronounced. \n",
    "\n",
    "This double-edged sword of language is both one of the most enjoyable parts of writing (choosing an expression which suits oneself), but it is also a source of frustration (\"How can I express that better?\" \"What is a better way to put that?\" \"What is the best way to express this idea?\")."
   ]
  },
  {
   "cell_type": "markdown",
   "metadata": {
    "slideshow": {
     "slide_type": "slide"
    }
   },
   "source": [
    "### \"*Better code*\"\n",
    "\n",
    "- **Aaron Hsu:** *How much (money) are you willing to bet on this code?*\n",
    "- **Roger Hui:** *Monument quality code*\n",
    "\n",
    "---\n",
    "- **Accurate**\n",
    "- **Reliable**"
   ]
  },
  {
   "cell_type": "markdown",
   "metadata": {
    "slideshow": {
     "slide_type": "slide"
    }
   },
   "source": [
    "### Variables\n",
    "Reference: [Dyalog Webinars: APL CodeGolf Autumn Tournament](https://youtu.be/3FjYly2G_QI?t=315)\n",
    "\n",
    "- **Accurate**\n",
    "- **Reliable**\n",
    "---\n",
    "- **Readable:** Can a stranger understand it?\n",
    "- **Fast:** Does it perform in reasonable time using reasonable resources?\n",
    "- **Short:** APLers need not be convinced\n",
    "- **Balanced**\n",
    "\n",
    "Here we advocate for balanced code, as this is desirable in production."
   ]
  },
  {
   "cell_type": "markdown",
   "metadata": {
    "slideshow": {
     "slide_type": "slide"
    }
   },
   "source": [
    "## Fast APL\n",
    "- Analysis and profiling\n",
    "- Mitigating hotspots through \n",
    " - Implementing Mechanical sympathy\n",
    " - Using special cased code (The interpretive advantage)\n",
    " - Compiling chunks\n",
    " - Outsourcing jobs\n",
    "- Algorithms and primitive complexity"
   ]
  },
  {
   "cell_type": "markdown",
   "metadata": {
    "slideshow": {
     "slide_type": "slide"
    }
   },
   "source": [
    "## Analysis and profiling"
   ]
  },
  {
   "cell_type": "markdown",
   "metadata": {
    "slideshow": {
     "slide_type": "slide"
    }
   },
   "source": [
    "### Rule `⎕IO`\n",
    "Do **not** optimise code which has **not** been measured as **slow** in realistic situations.\n",
    "\n",
    "Optimised code is often longer and much less readable."
   ]
  },
  {
   "cell_type": "markdown",
   "metadata": {},
   "source": [
    "`dfns.life`"
   ]
  },
  {
   "cell_type": "code",
   "execution_count": null,
   "metadata": {},
   "outputs": [],
   "source": [
    "R←¯2⌽¯1⊖5 7↑(3 3⍴⍳9)∊2 3 4 5 8\n",
    "lifeNested←{↑1 ⍵∨.∧3 4=+/,¯1 0 1∘.⌽¯1 0 1∘.⊖⊂⍵}\n",
    "lifeFlat←{(3=c)∨⍵∧4=c←+⌿,[1 2]¯1 0 1⊖⍤0 99⍤99 2⊢¯1 0 1⌽⍤0 99⊢⍵}"
   ]
  },
  {
   "cell_type": "markdown",
   "metadata": {},
   "source": [
    "### Code analysis tools\n",
    "```APL\n",
    "⎕PROFILE   ]Profile\n",
    "dfns.cmpx  ]Runtime\n",
    "```"
   ]
  },
  {
   "cell_type": "code",
   "execution_count": null,
   "metadata": {},
   "outputs": [],
   "source": [
    "]runtime -c \"lifeNested R\" \"lifeFlat R\""
   ]
  },
  {
   "cell_type": "markdown",
   "metadata": {},
   "source": [
    "$${(\\sum_{n=1}^{N}A_n})\\div{N}$$\n",
    "$$\\sum_{n=1}^{N}({A_n}\\div{N})$$"
   ]
  },
  {
   "cell_type": "code",
   "execution_count": null,
   "metadata": {
    "slideshow": {
     "slide_type": "slide"
    }
   },
   "outputs": [],
   "source": [
    "]dinput\n",
    "avg1←{\n",
    "  c←≢⍵    ⍝ Count elements \n",
    "  n←⍵÷c   ⍝ Array divided by count\n",
    "  +⌿n     ⍝ Sum\n",
    "}"
   ]
  },
  {
   "cell_type": "code",
   "execution_count": null,
   "metadata": {
    "slideshow": {
     "slide_type": "slide"
    }
   },
   "outputs": [],
   "source": [
    "]dinput\n",
    "avg2←{\n",
    "  c←≢⍵    ⍝ Count elements\n",
    "  s←+⌿⍵   ⍝ Sum elements \n",
    "  s÷c     ⍝ Sum divided by count\n",
    "}"
   ]
  },
  {
   "cell_type": "code",
   "execution_count": null,
   "metadata": {
    "slideshow": {
     "slide_type": "slide"
    }
   },
   "outputs": [],
   "source": [
    ")copy dfns cmpx\n",
    "n←?⍨1000\n",
    "cmpx 'avg1 n' 'avg2 n'"
   ]
  },
  {
   "cell_type": "code",
   "execution_count": null,
   "metadata": {},
   "outputs": [],
   "source": [
    "]runtime -?"
   ]
  },
  {
   "cell_type": "code",
   "execution_count": null,
   "metadata": {},
   "outputs": [],
   "source": [
    "⎕PROFILE 'start'\n",
    "avg1 n\n",
    "⎕PROFILE 'stop'\n",
    "]Profile"
   ]
  },
  {
   "cell_type": "code",
   "execution_count": null,
   "metadata": {
    "slideshow": {
     "slide_type": "slide"
    }
   },
   "outputs": [],
   "source": [
    "repeat←1e4\n",
    "_Profile←{⍺←1 ⋄ _←⎕PROFILE'clear' ⋄ _←⎕PROFILE 'start' ⋄ r←⍺⍺¨⍺⍴⊂⍵ ⋄ _←⎕PROFILE 'stop'}"
   ]
  },
  {
   "cell_type": "code",
   "execution_count": null,
   "metadata": {
    "slideshow": {
     "slide_type": "slide"
    }
   },
   "outputs": [],
   "source": [
    "repeat avg1 _Profile n\n",
    "⎕VR'avg1'\n",
    "]profile -lines"
   ]
  },
  {
   "cell_type": "code",
   "execution_count": null,
   "metadata": {
    "slideshow": {
     "slide_type": "slide"
    }
   },
   "outputs": [],
   "source": [
    "repeat avg2 _Profile n\n",
    "⎕VR'avg2'\n",
    "]profile -lines"
   ]
  },
  {
   "cell_type": "markdown",
   "metadata": {},
   "source": [
    "## Using special cased code (The Interpretive Advantage)"
   ]
  },
  {
   "cell_type": "code",
   "execution_count": 4,
   "metadata": {},
   "outputs": [
    {
     "data": {
      "text/html": [
       "<span style=\"white-space:pre; font-family: monospace\">                                                               \n",
       "  ≢⊢∪A → 1.2E¯5 |  0% ⎕⎕⎕⎕⎕⎕⎕⎕⎕⎕⎕⎕⎕⎕⎕⎕⎕⎕⎕⎕⎕⎕⎕⎕⎕⎕⎕⎕⎕⎕⎕⎕⎕⎕⎕⎕⎕⎕⎕  \n",
       "  ≢∘∪A → 1.2E¯5 | +2% ⎕⎕⎕⎕⎕⎕⎕⎕⎕⎕⎕⎕⎕⎕⎕⎕⎕⎕⎕⎕⎕⎕⎕⎕⎕⎕⎕⎕⎕⎕⎕⎕⎕⎕⎕⎕⎕⎕⎕⎕ \n",
       "</span>"
      ]
     },
     "execution_count": 4,
     "metadata": {},
     "output_type": "execute_result"
    }
   ],
   "source": [
    "A←?1e4⍴1e2\n",
    "]runtime -c \"{≢,⍵}⌸A\" \"{≢⍵}⌸A\""
   ]
  },
  {
   "cell_type": "markdown",
   "metadata": {},
   "source": [
    "[Dyalog idioms](https://help.dyalog.com/latest/index.htm#Language/Defined%20Functions%20and%20Operators/Idiom%20Recognition/Idiom%20List.htm)\n",
    "\n",
    "Search: *dyalog help idiom list*"
   ]
  },
  {
   "cell_type": "code",
   "execution_count": null,
   "metadata": {},
   "outputs": [],
   "source": [
    "⍝ Sorting idioms\n",
    "]runtime -c \"{⍵⌷⍨⊂⍋⍵}A\" \"{(⊂⍋⍵)⌷⍵}A\""
   ]
  },
  {
   "cell_type": "markdown",
   "metadata": {
    "slideshow": {
     "slide_type": "slide"
    }
   },
   "source": [
    "## Mechanical Sympathy"
   ]
  },
  {
   "cell_type": "markdown",
   "metadata": {},
   "source": [
    "Relatively easy gains"
   ]
  },
  {
   "cell_type": "markdown",
   "metadata": {},
   "source": [
    "Avoid nested arrays or mixed-type arrays"
   ]
  },
  {
   "cell_type": "code",
   "execution_count": 6,
   "metadata": {},
   "outputs": [
    {
     "data": {
      "text/html": [
       "<span style=\"white-space:pre; font-family: monospace\">┌──────┬─────┬──────┬──────┬─────┐\n",
       "│8 7 10│3 1 7│3 2 10│5 9 10│5 6 7│\n",
       "└──────┴─────┴──────┴──────┴─────┘\n",
       "</span>"
      ]
     },
     "execution_count": 6,
     "metadata": {},
     "output_type": "execute_result"
    },
    {
     "data": {
      "text/html": [
       "<span style=\"white-space:pre; font-family: monospace\">8 7 10\n",
       "3 1  7\n",
       "3 2 10\n",
       "5 9 10\n",
       "5 6  7\n",
       "</span>"
      ]
     },
     "execution_count": 6,
     "metadata": {},
     "output_type": "execute_result"
    }
   ],
   "source": [
    "⎕←5↑posNest←?500⍴⊂3⍴10\n",
    "⎕←5↑posFlat←↑posNest"
   ]
  },
  {
   "cell_type": "code",
   "execution_count": null,
   "metadata": {},
   "outputs": [],
   "source": [
    "]runtime -c \"0.5*⍨+/¨2*⍨∘.-⍨posNest\" \"0.5*⍨+/2*⍨-⍤1⍤1 99⍨posFlat\""
   ]
  },
  {
   "cell_type": "markdown",
   "metadata": {},
   "source": [
    "Use inverted tables: [Dyalog '18: Inverted Tables]()"
   ]
  },
  {
   "cell_type": "code",
   "execution_count": 10,
   "metadata": {},
   "outputs": [
    {
     "data": {
      "text/html": [
       "<span style=\"white-space:pre; font-family: monospace\">┌─────┬───────────────┬───────────┐\n",
       "│cats │412 418 520 136│selfish    │\n",
       "│dogs │               │loyal      │\n",
       "│ducks│               │mischievous│\n",
       "│goats│               │baa        │\n",
       "└─────┴───────────────┴───────────┘\n",
       "</span>"
      ]
     },
     "execution_count": 10,
     "metadata": {},
     "output_type": "execute_result"
    }
   ],
   "source": [
    "⎕←creatures←(↑'cats' 'dogs' 'ducks' 'goats')(412 418 520 136)(↑'selfish' 'loyal' 'mischievous' 'baa')"
   ]
  },
  {
   "cell_type": "code",
   "execution_count": null,
   "metadata": {},
   "outputs": [],
   "source": [
    "good←(↑'dogs' 'goats')(418 136)(2 11⍴'loyal      baa        ')"
   ]
  },
  {
   "cell_type": "code",
   "execution_count": 11,
   "metadata": {},
   "outputs": [],
   "source": [
    "IIX ← 8⌶ ⍝(Inverted-table IndeX of)\n",
    "unvert←{⍉↑⊂⍤¯1¨⍵}"
   ]
  },
  {
   "cell_type": "code",
   "execution_count": null,
   "metadata": {},
   "outputs": [],
   "source": [
    "]runtime -c \"(unvert creatures)⍳ unvert good\" \"creatures (8⌶) good\" "
   ]
  },
  {
   "cell_type": "code",
   "execution_count": 1,
   "metadata": {},
   "outputs": [
    {
     "data": {
      "text/html": [
       "<span style=\"white-space:pre; font-family: monospace\">done\n",
       "    _⍸   \n",
       "___( ∘)&gt;  ∘○O( ⊃∨∧⌊○⊂ 2020-02-19 15:32:16 )\n",
       "\\ ≤_. )  \n",
       " `---´   \n",
       "\n",
       "\n",
       "Rebuilding user command cache... done\n",
       "</span>"
      ]
     },
     "execution_count": 1,
     "metadata": {},
     "output_type": "execute_result"
    },
    {
     "data": {
      "text/html": [
       "<span style=\"white-space:pre; font-family: monospace\">                                                                              \n",
       "  +/,{3&lt;+/,⍵}⌺3 3⊢b → 3.9E¯2 |    0% ⎕⎕⎕⎕⎕⎕⎕⎕⎕⎕⎕⎕⎕⎕⎕⎕⎕⎕⎕⎕⎕⎕⎕⎕⎕⎕⎕⎕⎕⎕⎕⎕⎕⎕⎕⎕⎕⎕⎕⎕ \n",
       "  +/,3&lt;{+/,⍵}⌺3 3⊢b → 3.1E¯5 | -100%                                          \n",
       "</span>"
      ]
     },
     "execution_count": 1,
     "metadata": {},
     "output_type": "execute_result"
    }
   ],
   "source": [
    "b←1=?100 100⍴2\n",
    "]runtime -c \"+/,{3<+/,⍵}⌺3 3⊢b\" \"+/,3<{+/,⍵}⌺3 3⊢b\""
   ]
  },
  {
   "cell_type": "markdown",
   "metadata": {},
   "source": [
    "## Algorithms and Primitive Complexity\n",
    "APL makes it easy to reason about algorithms."
   ]
  },
  {
   "cell_type": "code",
   "execution_count": null,
   "metadata": {},
   "outputs": [],
   "source": [
    "PT0←PrimesTil←{⍸2=+⌿0=∘.|⍨⍳⍵}   ⍝ Primes from 1 to ⍵ using Modulo and Reduction\n",
    "PT1←(⊢~∘.×⍨)1↓⍳                 ⍝ Without Products                             \n",
    ")copy dfns sieve pco                                                           \n",
    "PT2←sieve 1↓⍳                   ⍝ Sieve of Eratosthenes                        \n",
    "PT3←⍸10 pco 1,⊢                 ⍝ dfns.pco (lookup table) "
   ]
  },
  {
   "cell_type": "code",
   "execution_count": null,
   "metadata": {},
   "outputs": [],
   "source": [
    "_Time←{⍎0 0 0 0.2 cmpx ⍺⍺,' ',⍕⍵}"
   ]
  },
  {
   "cell_type": "code",
   "execution_count": null,
   "metadata": {},
   "outputs": [],
   "source": [
    "⊢n←5↓⌊10*0.1×⍳20"
   ]
  },
  {
   "cell_type": "code",
   "execution_count": null,
   "metadata": {},
   "outputs": [],
   "source": [
    ")copy sharpplot"
   ]
  },
  {
   "cell_type": "code",
   "execution_count": null,
   "metadata": {},
   "outputs": [],
   "source": [
    "∇ {key}Plot data;d;n;s\n",
    " :If 0=⎕NC'key'\n",
    "     key←''\n",
    " :EndIf\n",
    " s←⎕NEW SharpPlot\n",
    " n←⊃data\n",
    " :For d :In ⊆⊃⌽data\n",
    "     s.DrawLineGraph d n\n",
    " :EndFor\n",
    " s.SetKeyText key\n",
    " View s\n",
    "∇ "
   ]
  },
  {
   "cell_type": "code",
   "execution_count": null,
   "metadata": {},
   "outputs": [],
   "source": [
    "'Modulo reduction' 'Without products' 'Sieve' 'dfns.pco' Plot n{⍺⍵}('PT0'_Time¨n)('PT1'_Time¨n)('PT2'_Time¨n)('PT3'_Time¨n)"
   ]
  },
  {
   "cell_type": "markdown",
   "metadata": {
    "slideshow": {
     "slide_type": "slide"
    }
   },
   "source": [
    "## Compilation\n",
    "- [Co-dfns](https://github.com/Co-dfns/Co-dfns)\n",
    "- [Jay's Dyalog Compiler](http://docs.dyalog.com/latest/Compiler%20User%20Guide.pdf)\n",
    "- [APEX: The APL Parallel Executor](http://snakeisland.com/apexup.htm)"
   ]
  }
 ],
 "metadata": {
  "kernelspec": {
   "display_name": "Dyalog APL",
   "language": "apl",
   "name": "dyalog-kernel"
  },
  "language_info": {
   "file_extension": ".apl",
   "mimetype": "text/apl",
   "name": "APL"
  }
 },
 "nbformat": 4,
 "nbformat_minor": 4
}
